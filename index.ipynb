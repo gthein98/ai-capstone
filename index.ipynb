{
 "cells": [
  {
   "cell_type": "markdown",
   "metadata": {},
   "source": [
    "# Computer Vision Analysis"
   ]
  },
  {
   "cell_type": "code",
   "execution_count": 1,
   "metadata": {
    "ExecuteTime": {
     "end_time": "2022-08-17T20:12:12.126046Z",
     "start_time": "2022-08-17T20:12:10.705639Z"
    }
   },
   "outputs": [],
   "source": [
    "#Import Statements\n",
    "import numpy as np\n",
    "import pandas as pd\n",
    "import scipy.stats as stats\n",
    "\n",
    "import matplotlib.pyplot as plt\n",
    "import matplotlib\n",
    "import seaborn as sns\n",
    "\n",
    "import sqlite3\n",
    "from zipfile import ZipFile\n",
    "\n",
    "import string\n",
    "import regex as re\n",
    "\n",
    "import warnings\n",
    "warnings.filterwarnings('ignore')\n",
    "\n",
    "%matplotlib inline"
   ]
  },
  {
   "cell_type": "code",
   "execution_count": 2,
   "metadata": {
    "ExecuteTime": {
     "end_time": "2022-08-17T20:12:12.141571Z",
     "start_time": "2022-08-17T20:12:12.129063Z"
    }
   },
   "outputs": [],
   "source": [
    "color_palette = [\"#86BC25\"] #Set Color of PLots to Deloitte Green\n",
    "sns.set_palette(palette=color_palette)"
   ]
  },
  {
   "cell_type": "markdown",
   "metadata": {},
   "source": [
    "# Import Data "
   ]
  },
  {
   "cell_type": "markdown",
   "metadata": {},
   "source": [
    "The two datasets that we utilized are imported below. The numbers is a tabular dataset that contains information regarding budgets and gross for movies while the IMDB database is a relational database that contains information about movie genres and the production personnel behind it. "
   ]
  },
  {
   "cell_type": "code",
   "execution_count": 3,
   "metadata": {
    "ExecuteTime": {
     "end_time": "2022-08-17T20:12:12.187758Z",
     "start_time": "2022-08-17T20:12:12.145081Z"
    }
   },
   "outputs": [
    {
     "data": {
      "text/html": [
       "<div>\n",
       "<style scoped>\n",
       "    .dataframe tbody tr th:only-of-type {\n",
       "        vertical-align: middle;\n",
       "    }\n",
       "\n",
       "    .dataframe tbody tr th {\n",
       "        vertical-align: top;\n",
       "    }\n",
       "\n",
       "    .dataframe thead th {\n",
       "        text-align: right;\n",
       "    }\n",
       "</style>\n",
       "<table border=\"1\" class=\"dataframe\">\n",
       "  <thead>\n",
       "    <tr style=\"text-align: right;\">\n",
       "      <th></th>\n",
       "      <th>id</th>\n",
       "      <th>release_date</th>\n",
       "      <th>movie</th>\n",
       "      <th>production_budget</th>\n",
       "      <th>domestic_gross</th>\n",
       "      <th>worldwide_gross</th>\n",
       "    </tr>\n",
       "  </thead>\n",
       "  <tbody>\n",
       "    <tr>\n",
       "      <th>0</th>\n",
       "      <td>1</td>\n",
       "      <td>Dec 18, 2009</td>\n",
       "      <td>Avatar</td>\n",
       "      <td>$425,000,000</td>\n",
       "      <td>$760,507,625</td>\n",
       "      <td>$2,776,345,279</td>\n",
       "    </tr>\n",
       "    <tr>\n",
       "      <th>1</th>\n",
       "      <td>2</td>\n",
       "      <td>May 20, 2011</td>\n",
       "      <td>Pirates of the Caribbean: On Stranger Tides</td>\n",
       "      <td>$410,600,000</td>\n",
       "      <td>$241,063,875</td>\n",
       "      <td>$1,045,663,875</td>\n",
       "    </tr>\n",
       "    <tr>\n",
       "      <th>2</th>\n",
       "      <td>3</td>\n",
       "      <td>Jun 7, 2019</td>\n",
       "      <td>Dark Phoenix</td>\n",
       "      <td>$350,000,000</td>\n",
       "      <td>$42,762,350</td>\n",
       "      <td>$149,762,350</td>\n",
       "    </tr>\n",
       "    <tr>\n",
       "      <th>3</th>\n",
       "      <td>4</td>\n",
       "      <td>May 1, 2015</td>\n",
       "      <td>Avengers: Age of Ultron</td>\n",
       "      <td>$330,600,000</td>\n",
       "      <td>$459,005,868</td>\n",
       "      <td>$1,403,013,963</td>\n",
       "    </tr>\n",
       "    <tr>\n",
       "      <th>4</th>\n",
       "      <td>5</td>\n",
       "      <td>Dec 15, 2017</td>\n",
       "      <td>Star Wars Ep. VIII: The Last Jedi</td>\n",
       "      <td>$317,000,000</td>\n",
       "      <td>$620,181,382</td>\n",
       "      <td>$1,316,721,747</td>\n",
       "    </tr>\n",
       "  </tbody>\n",
       "</table>\n",
       "</div>"
      ],
      "text/plain": [
       "   id  release_date                                        movie  \\\n",
       "0   1  Dec 18, 2009                                       Avatar   \n",
       "1   2  May 20, 2011  Pirates of the Caribbean: On Stranger Tides   \n",
       "2   3   Jun 7, 2019                                 Dark Phoenix   \n",
       "3   4   May 1, 2015                      Avengers: Age of Ultron   \n",
       "4   5  Dec 15, 2017            Star Wars Ep. VIII: The Last Jedi   \n",
       "\n",
       "  production_budget domestic_gross worldwide_gross  \n",
       "0      $425,000,000   $760,507,625  $2,776,345,279  \n",
       "1      $410,600,000   $241,063,875  $1,045,663,875  \n",
       "2      $350,000,000    $42,762,350    $149,762,350  \n",
       "3      $330,600,000   $459,005,868  $1,403,013,963  \n",
       "4      $317,000,000   $620,181,382  $1,316,721,747  "
      ]
     },
     "execution_count": 3,
     "metadata": {},
     "output_type": "execute_result"
    }
   ],
   "source": [
    "the_numbers = pd.read_csv('zippedData/tn.movie_budgets.csv.gz')\n",
    "the_numbers.head()"
   ]
  },
  {
   "cell_type": "code",
   "execution_count": 4,
   "metadata": {
    "ExecuteTime": {
     "end_time": "2022-08-17T20:12:12.203058Z",
     "start_time": "2022-08-17T20:12:12.189858Z"
    }
   },
   "outputs": [],
   "source": [
    "#Run only first time to unzip the file\n",
    "\n",
    "#Confirm with Instructors if we need to have this run\n",
    "#file_name = \"./zippedData/im.db.zip\"\n",
    "# opening the zip file in READ mode\n",
    "#with ZipFile(file_name, 'r') as zip:\n",
    "#    # printing all the contents of the zip file\n",
    "#    #zip.printdir()\n",
    "#    zip.extractall()"
   ]
  },
  {
   "cell_type": "code",
   "execution_count": 5,
   "metadata": {
    "ExecuteTime": {
     "end_time": "2022-08-17T20:12:12.218962Z",
     "start_time": "2022-08-17T20:12:12.208595Z"
    }
   },
   "outputs": [],
   "source": [
    "conn = sqlite3.connect('./im.db')"
   ]
  },
  {
   "cell_type": "markdown",
   "metadata": {},
   "source": [
    "# Data Cleaning and EDA"
   ]
  },
  {
   "cell_type": "code",
   "execution_count": 6,
   "metadata": {},
   "outputs": [
    {
     "name": "stdout",
     "output_type": "stream",
     "text": [
      "<class 'pandas.core.frame.DataFrame'>\n",
      "RangeIndex: 5782 entries, 0 to 5781\n",
      "Data columns (total 6 columns):\n",
      " #   Column             Non-Null Count  Dtype \n",
      "---  ------             --------------  ----- \n",
      " 0   id                 5782 non-null   int64 \n",
      " 1   release_date       5782 non-null   object\n",
      " 2   movie              5782 non-null   object\n",
      " 3   production_budget  5782 non-null   object\n",
      " 4   domestic_gross     5782 non-null   object\n",
      " 5   worldwide_gross    5782 non-null   object\n",
      "dtypes: int64(1), object(5)\n",
      "memory usage: 271.2+ KB\n"
     ]
    }
   ],
   "source": [
    "the_numbers.info()"
   ]
  },
  {
   "cell_type": "markdown",
   "metadata": {},
   "source": [
    "We can see that all of the data is stored as a string (not good for us). We decided to make any numerical value into integers so that we can perform statistical calculations appropriately."
   ]
  },
  {
   "cell_type": "code",
   "execution_count": 7,
   "metadata": {
    "ExecuteTime": {
     "end_time": "2022-08-17T20:12:12.234963Z",
     "start_time": "2022-08-17T20:12:12.221482Z"
    }
   },
   "outputs": [],
   "source": [
    "#Function that turns strings into integers\n",
    "def make_int(string):\n",
    "    return int(string.replace(\"$\",\"\").replace(\",\",\"\"))"
   ]
  },
  {
   "cell_type": "markdown",
   "metadata": {},
   "source": [
    "We also created updated the format of the 'release_date' column to be in datetime format for easier calculations, and separated the values to month, day, and year respectively. We also added a 'title' to standardize names between the datasets."
   ]
  },
  {
   "cell_type": "code",
   "execution_count": 8,
   "metadata": {
    "ExecuteTime": {
     "end_time": "2022-08-17T20:12:12.326454Z",
     "start_time": "2022-08-17T20:12:12.238140Z"
    }
   },
   "outputs": [],
   "source": [
    "the_numbers['production_budget'] = the_numbers['production_budget'].apply(lambda x: make_int(x))\n",
    "the_numbers['domestic_gross'] = the_numbers['domestic_gross'].apply(lambda x: make_int(x))\n",
    "the_numbers['worldwide_gross'] = the_numbers['worldwide_gross'].apply(lambda x: make_int(x))\n",
    "\n",
    "#Creates a date time from release date\n",
    "the_numbers['release_date']=(\n",
    "    pd.to_datetime(the_numbers['release_date'], format='%b %d, %Y'))\n",
    "\n",
    "#Creates a new title column\n",
    "the_numbers['title']= (\n",
    "    the_numbers['movie'].map(\n",
    "        lambda x :''.join(filter(str.isalnum, x)).lower()))\n",
    "\n",
    "the_numbers['days'] = the_numbers[\"release_date\"].dt.day_name()\n",
    "the_numbers['months'] = the_numbers[\"release_date\"].dt.month_name()\n",
    "the_numbers['year'] = the_numbers[\"release_date\"].dt.year"
   ]
  },
  {
   "cell_type": "markdown",
   "metadata": {},
   "source": [
    "We can now see the changes that we made to the table."
   ]
  },
  {
   "cell_type": "code",
   "execution_count": 9,
   "metadata": {
    "ExecuteTime": {
     "end_time": "2022-08-17T20:12:12.357069Z",
     "start_time": "2022-08-17T20:12:12.334191Z"
    }
   },
   "outputs": [
    {
     "name": "stdout",
     "output_type": "stream",
     "text": [
      "<class 'pandas.core.frame.DataFrame'>\n",
      "RangeIndex: 5782 entries, 0 to 5781\n",
      "Data columns (total 10 columns):\n",
      " #   Column             Non-Null Count  Dtype         \n",
      "---  ------             --------------  -----         \n",
      " 0   id                 5782 non-null   int64         \n",
      " 1   release_date       5782 non-null   datetime64[ns]\n",
      " 2   movie              5782 non-null   object        \n",
      " 3   production_budget  5782 non-null   int64         \n",
      " 4   domestic_gross     5782 non-null   int64         \n",
      " 5   worldwide_gross    5782 non-null   int64         \n",
      " 6   title              5782 non-null   object        \n",
      " 7   days               5782 non-null   object        \n",
      " 8   months             5782 non-null   object        \n",
      " 9   year               5782 non-null   int64         \n",
      "dtypes: datetime64[ns](1), int64(5), object(4)\n",
      "memory usage: 451.8+ KB\n"
     ]
    }
   ],
   "source": [
    "the_numbers.info()"
   ]
  },
  {
   "cell_type": "markdown",
   "metadata": {},
   "source": [
    "# Production Budget"
   ]
  },
  {
   "cell_type": "markdown",
   "metadata": {},
   "source": [
    "Let's see if there is any correlation between the columns within The Numbers dataset. "
   ]
  },
  {
   "cell_type": "code",
   "execution_count": 10,
   "metadata": {},
   "outputs": [
    {
     "data": {
      "text/html": [
       "<div>\n",
       "<style scoped>\n",
       "    .dataframe tbody tr th:only-of-type {\n",
       "        vertical-align: middle;\n",
       "    }\n",
       "\n",
       "    .dataframe tbody tr th {\n",
       "        vertical-align: top;\n",
       "    }\n",
       "\n",
       "    .dataframe thead th {\n",
       "        text-align: right;\n",
       "    }\n",
       "</style>\n",
       "<table border=\"1\" class=\"dataframe\">\n",
       "  <thead>\n",
       "    <tr style=\"text-align: right;\">\n",
       "      <th></th>\n",
       "      <th>id</th>\n",
       "      <th>production_budget</th>\n",
       "      <th>domestic_gross</th>\n",
       "      <th>worldwide_gross</th>\n",
       "      <th>year</th>\n",
       "    </tr>\n",
       "  </thead>\n",
       "  <tbody>\n",
       "    <tr>\n",
       "      <th>id</th>\n",
       "      <td>1.000000</td>\n",
       "      <td>-0.035278</td>\n",
       "      <td>0.008255</td>\n",
       "      <td>-0.009422</td>\n",
       "      <td>-0.011652</td>\n",
       "    </tr>\n",
       "    <tr>\n",
       "      <th>production_budget</th>\n",
       "      <td>-0.035278</td>\n",
       "      <td>1.000000</td>\n",
       "      <td>0.685682</td>\n",
       "      <td>0.748306</td>\n",
       "      <td>0.176091</td>\n",
       "    </tr>\n",
       "    <tr>\n",
       "      <th>domestic_gross</th>\n",
       "      <td>0.008255</td>\n",
       "      <td>0.685682</td>\n",
       "      <td>1.000000</td>\n",
       "      <td>0.938853</td>\n",
       "      <td>0.036690</td>\n",
       "    </tr>\n",
       "    <tr>\n",
       "      <th>worldwide_gross</th>\n",
       "      <td>-0.009422</td>\n",
       "      <td>0.748306</td>\n",
       "      <td>0.938853</td>\n",
       "      <td>1.000000</td>\n",
       "      <td>0.100588</td>\n",
       "    </tr>\n",
       "    <tr>\n",
       "      <th>year</th>\n",
       "      <td>-0.011652</td>\n",
       "      <td>0.176091</td>\n",
       "      <td>0.036690</td>\n",
       "      <td>0.100588</td>\n",
       "      <td>1.000000</td>\n",
       "    </tr>\n",
       "  </tbody>\n",
       "</table>\n",
       "</div>"
      ],
      "text/plain": [
       "                         id  production_budget  domestic_gross  \\\n",
       "id                 1.000000          -0.035278        0.008255   \n",
       "production_budget -0.035278           1.000000        0.685682   \n",
       "domestic_gross     0.008255           0.685682        1.000000   \n",
       "worldwide_gross   -0.009422           0.748306        0.938853   \n",
       "year              -0.011652           0.176091        0.036690   \n",
       "\n",
       "                   worldwide_gross      year  \n",
       "id                       -0.009422 -0.011652  \n",
       "production_budget         0.748306  0.176091  \n",
       "domestic_gross            0.938853  0.036690  \n",
       "worldwide_gross           1.000000  0.100588  \n",
       "year                      0.100588  1.000000  "
      ]
     },
     "execution_count": 10,
     "metadata": {},
     "output_type": "execute_result"
    }
   ],
   "source": [
    "the_numbers.corr()"
   ]
  },
  {
   "cell_type": "markdown",
   "metadata": {},
   "source": [
    "We can see a fairly strong positive correlation between the production budget and worldwide gross. Let's plot the two values and see if we can notice anything."
   ]
  },
  {
   "cell_type": "code",
   "execution_count": 11,
   "metadata": {},
   "outputs": [
    {
     "data": {
      "text/plain": [
       "Text(0, 0.5, 'Worldwide Gross (in Millions)')"
      ]
     },
     "execution_count": 11,
     "metadata": {},
     "output_type": "execute_result"
    },
    {
     "data": {
      "image/png": "[encoded data removed]",
      "text/plain": [
       "<Figure size 1332x756 with 1 Axes>"
      ]
     },
     "metadata": {},
     "output_type": "display_data"
    }
   ],
   "source": [
    "#Scatterplot of Production Budget vs. Worldwide Gross\n",
    "sns.set_theme()\n",
    "sns.set(font_scale=2)\n",
    "\n",
    "color_palette = [\"#86BC25\", \"#007CB0\"] #Set Color of PLots to Deloitte Green\n",
    "sns.set_palette(palette=color_palette)\n",
    "\n",
    "fig, ax = plt.subplots()\n",
    "\n",
    "#Let's Focus only budgets less than 100M since we do not want to make a budget \n",
    "#so large that it is unreasonable. Sample for 1500 to keep the graph clean\n",
    "sampled = the_numbers[the_numbers['production_budget'] < 100000000]\n",
    "sampled = sampled.sample(1500)\n",
    "\n",
    "ax = sns.regplot(data=sampled, x='production_budget', y='worldwide_gross', \n",
    "            scatter_kws={'alpha':0.5}, line_kws={\"color\": \"#007CB0\"})\n",
    "fig.set_size_inches(18.5, 10.5)\n",
    "\n",
    "ax.set_xticklabels(['0', '20','40','60','80','100'])\n",
    "ax.set_yticklabels(['0', '200','400','600','800','1B', '1.2B', '1.4B', '1.6B'])\n",
    "\n",
    "ax.set_title(\"Production Budget vs. Worldwide Gross\")\n",
    "ax.set_xlabel(\"Production Budget (in Millions)\")\n",
    "ax.set_ylabel(\"Worldwide Gross (in Millions)\")"
   ]
  },
  {
   "cell_type": "markdown",
   "metadata": {},
   "source": [
    "We can see the positive correlation in the graph above. Next, we want to see if there are any notable frequencies for famous actors/personnel within the highest grossing movies. To do this, we want to look for the most extreme values. With our data being so large, we can assume it's normal (Central Limit Theorem), and can take the z score to see how far something is off the mean. "
   ]
  },
  {
   "cell_type": "code",
   "execution_count": 12,
   "metadata": {
    "ExecuteTime": {
     "end_time": "2022-08-17T20:12:12.371501Z",
     "start_time": "2022-08-17T20:12:12.362613Z"
    }
   },
   "outputs": [],
   "source": [
    "def z_score(value, mean, std):\n",
    "    return (value - mean) / std"
   ]
  },
  {
   "cell_type": "code",
   "execution_count": 13,
   "metadata": {
    "ExecuteTime": {
     "end_time": "2022-08-17T20:12:12.402002Z",
     "start_time": "2022-08-17T20:12:12.373878Z"
    }
   },
   "outputs": [
    {
     "name": "stdout",
     "output_type": "stream",
     "text": [
      "91487460.90643376\n",
      "27984448.5\n"
     ]
    }
   ],
   "source": [
    "the_numbers_mean = the_numbers['worldwide_gross'].mean()\n",
    "the_numbers_med = the_numbers['worldwide_gross'].median()\n",
    "the_numbers_std = the_numbers['worldwide_gross'].std()\n",
    "\n",
    "print(the_numbers_mean)\n",
    "print(the_numbers_med)\n",
    "\n",
    "the_numbers['z_score'] = the_numbers['worldwide_gross'].apply(lambda x: z_score(x, the_numbers_mean, the_numbers_std))"
   ]
  },
  {
   "cell_type": "markdown",
   "metadata": {},
   "source": [
    "Let's take a look at the movies that are over 3 times greater than the mean (aka Z-score greater than 3)"
   ]
  },
  {
   "cell_type": "code",
   "execution_count": 14,
   "metadata": {
    "ExecuteTime": {
     "end_time": "2022-08-17T20:12:12.986798Z",
     "start_time": "2022-08-17T20:12:12.972866Z"
    }
   },
   "outputs": [
    {
     "data": {
      "text/plain": [
       "['Avatar',\n",
       " 'Pirates of the Caribbean: On Stranger Tides',\n",
       " 'Avengers: Age of Ultron',\n",
       " 'Star Wars Ep. VIII: The Last Jedi',\n",
       " 'Star Wars Ep. VII: The Force Awakens']"
      ]
     },
     "execution_count": 14,
     "metadata": {},
     "output_type": "execute_result"
    }
   ],
   "source": [
    "gross_outliers = the_numbers[the_numbers['z_score'] > 3]\n",
    "outliers_movies_lst = list(gross_outliers['movie'].values)\n",
    "outliers_movies_lst[:5]"
   ]
  },
  {
   "cell_type": "markdown",
   "metadata": {},
   "source": [
    "Now combine that with our IMDB Database"
   ]
  },
  {
   "cell_type": "code",
   "execution_count": 15,
   "metadata": {
    "ExecuteTime": {
     "end_time": "2022-08-17T20:13:22.629707Z",
     "start_time": "2022-08-17T20:12:45.898419Z"
    }
   },
   "outputs": [],
   "source": [
    "imdb_people = pd.read_sql(f\"\"\"\n",
    "SELECT pr.person_id, primary_name, death_year, category, primary_title,\n",
    "       original_title\n",
    "FROM persons p\n",
    "LEFT JOIN principals pr ON pr.person_id = p.person_id\n",
    "LEFT JOIN movie_basics mb ON pr.movie_id = mb.movie_id\n",
    "\"\"\", conn)"
   ]
  },
  {
   "cell_type": "markdown",
   "metadata": {},
   "source": [
    "We want to make sure that the personnel are alive, in the outlier movies list, and then group the frequency we see them."
   ]
  },
  {
   "cell_type": "code",
   "execution_count": 16,
   "metadata": {
    "ExecuteTime": {
     "end_time": "2022-08-17T20:13:22.698051Z",
     "start_time": "2022-08-17T20:13:04.761Z"
    }
   },
   "outputs": [
    {
     "data": {
      "text/html": [
       "<div>\n",
       "<style scoped>\n",
       "    .dataframe tbody tr th:only-of-type {\n",
       "        vertical-align: middle;\n",
       "    }\n",
       "\n",
       "    .dataframe tbody tr th {\n",
       "        vertical-align: top;\n",
       "    }\n",
       "\n",
       "    .dataframe thead th {\n",
       "        text-align: right;\n",
       "    }\n",
       "</style>\n",
       "<table border=\"1\" class=\"dataframe\">\n",
       "  <thead>\n",
       "    <tr style=\"text-align: right;\">\n",
       "      <th></th>\n",
       "      <th>person_id</th>\n",
       "      <th>primary_name</th>\n",
       "      <th>death_year</th>\n",
       "      <th>category</th>\n",
       "      <th>primary_title</th>\n",
       "      <th>original_title</th>\n",
       "    </tr>\n",
       "  </thead>\n",
       "  <tbody>\n",
       "    <tr>\n",
       "      <th>480</th>\n",
       "      <td>nm0125336</td>\n",
       "      <td>Jez Butterworth</td>\n",
       "      <td>NaN</td>\n",
       "      <td>writer</td>\n",
       "      <td>Spectre</td>\n",
       "      <td>Spectre</td>\n",
       "    </tr>\n",
       "    <tr>\n",
       "      <th>2286</th>\n",
       "      <td>nm0671567</td>\n",
       "      <td>Michael Peña</td>\n",
       "      <td>NaN</td>\n",
       "      <td>actor</td>\n",
       "      <td>Ant-Man and the Wasp</td>\n",
       "      <td>Ant-Man and the Wasp</td>\n",
       "    </tr>\n",
       "    <tr>\n",
       "      <th>2797</th>\n",
       "      <td>nm0834902</td>\n",
       "      <td>Robert Stromberg</td>\n",
       "      <td>NaN</td>\n",
       "      <td>director</td>\n",
       "      <td>Maleficent</td>\n",
       "      <td>Maleficent</td>\n",
       "    </tr>\n",
       "    <tr>\n",
       "      <th>2799</th>\n",
       "      <td>nm0837112</td>\n",
       "      <td>Richard Suckle</td>\n",
       "      <td>NaN</td>\n",
       "      <td>producer</td>\n",
       "      <td>Suicide Squad</td>\n",
       "      <td>Suicide Squad</td>\n",
       "    </tr>\n",
       "    <tr>\n",
       "      <th>3273</th>\n",
       "      <td>nm1014201</td>\n",
       "      <td>Rhett Reese</td>\n",
       "      <td>NaN</td>\n",
       "      <td>writer</td>\n",
       "      <td>Deadpool</td>\n",
       "      <td>Deadpool</td>\n",
       "    </tr>\n",
       "    <tr>\n",
       "      <th>...</th>\n",
       "      <td>...</td>\n",
       "      <td>...</td>\n",
       "      <td>...</td>\n",
       "      <td>...</td>\n",
       "      <td>...</td>\n",
       "      <td>...</td>\n",
       "    </tr>\n",
       "    <tr>\n",
       "      <th>1005549</th>\n",
       "      <td>nm9989238</td>\n",
       "      <td>Suneet Gautam</td>\n",
       "      <td>NaN</td>\n",
       "      <td>composer</td>\n",
       "      <td>Titanic</td>\n",
       "      <td>Titanic</td>\n",
       "    </tr>\n",
       "    <tr>\n",
       "      <th>1009487</th>\n",
       "      <td>nm9989231</td>\n",
       "      <td>Mahesh Vashisht</td>\n",
       "      <td>NaN</td>\n",
       "      <td>composer</td>\n",
       "      <td>Titanic</td>\n",
       "      <td>Titanic</td>\n",
       "    </tr>\n",
       "    <tr>\n",
       "      <th>1013926</th>\n",
       "      <td>nm9039216</td>\n",
       "      <td>Neil Boultby</td>\n",
       "      <td>NaN</td>\n",
       "      <td>actor</td>\n",
       "      <td>Coco</td>\n",
       "      <td>Coco</td>\n",
       "    </tr>\n",
       "    <tr>\n",
       "      <th>1029087</th>\n",
       "      <td>nm9061881</td>\n",
       "      <td>Natalia Kaverznikova</td>\n",
       "      <td>NaN</td>\n",
       "      <td>actress</td>\n",
       "      <td>Coco</td>\n",
       "      <td>Coco</td>\n",
       "    </tr>\n",
       "    <tr>\n",
       "      <th>1029088</th>\n",
       "      <td>nm9061886</td>\n",
       "      <td>Isabelle Stokes</td>\n",
       "      <td>NaN</td>\n",
       "      <td>actress</td>\n",
       "      <td>Coco</td>\n",
       "      <td>Coco</td>\n",
       "    </tr>\n",
       "  </tbody>\n",
       "</table>\n",
       "<p>956 rows × 6 columns</p>\n",
       "</div>"
      ],
      "text/plain": [
       "         person_id          primary_name  death_year  category  \\\n",
       "480      nm0125336       Jez Butterworth         NaN    writer   \n",
       "2286     nm0671567          Michael Peña         NaN     actor   \n",
       "2797     nm0834902      Robert Stromberg         NaN  director   \n",
       "2799     nm0837112        Richard Suckle         NaN  producer   \n",
       "3273     nm1014201           Rhett Reese         NaN    writer   \n",
       "...            ...                   ...         ...       ...   \n",
       "1005549  nm9989238         Suneet Gautam         NaN  composer   \n",
       "1009487  nm9989231       Mahesh Vashisht         NaN  composer   \n",
       "1013926  nm9039216          Neil Boultby         NaN     actor   \n",
       "1029087  nm9061881  Natalia Kaverznikova         NaN   actress   \n",
       "1029088  nm9061886       Isabelle Stokes         NaN   actress   \n",
       "\n",
       "                primary_title        original_title  \n",
       "480                   Spectre               Spectre  \n",
       "2286     Ant-Man and the Wasp  Ant-Man and the Wasp  \n",
       "2797               Maleficent            Maleficent  \n",
       "2799            Suicide Squad         Suicide Squad  \n",
       "3273                 Deadpool              Deadpool  \n",
       "...                       ...                   ...  \n",
       "1005549               Titanic               Titanic  \n",
       "1009487               Titanic               Titanic  \n",
       "1013926                  Coco                  Coco  \n",
       "1029087                  Coco                  Coco  \n",
       "1029088                  Coco                  Coco  \n",
       "\n",
       "[956 rows x 6 columns]"
      ]
     },
     "metadata": {},
     "output_type": "display_data"
    },
    {
     "data": {
      "text/html": [
       "<div>\n",
       "<style scoped>\n",
       "    .dataframe tbody tr th:only-of-type {\n",
       "        vertical-align: middle;\n",
       "    }\n",
       "\n",
       "    .dataframe tbody tr th {\n",
       "        vertical-align: top;\n",
       "    }\n",
       "\n",
       "    .dataframe thead th {\n",
       "        text-align: right;\n",
       "    }\n",
       "</style>\n",
       "<table border=\"1\" class=\"dataframe\">\n",
       "  <thead>\n",
       "    <tr style=\"text-align: right;\">\n",
       "      <th></th>\n",
       "      <th>category</th>\n",
       "      <th>primary_name</th>\n",
       "      <th>counts</th>\n",
       "    </tr>\n",
       "  </thead>\n",
       "  <tbody>\n",
       "    <tr>\n",
       "      <th>0</th>\n",
       "      <td>actor</td>\n",
       "      <td>Aarif Rahman</td>\n",
       "      <td>1</td>\n",
       "    </tr>\n",
       "    <tr>\n",
       "      <th>1</th>\n",
       "      <td>actor</td>\n",
       "      <td>Adil Hussain</td>\n",
       "      <td>1</td>\n",
       "    </tr>\n",
       "    <tr>\n",
       "      <th>2</th>\n",
       "      <td>actor</td>\n",
       "      <td>Alan Mathis</td>\n",
       "      <td>1</td>\n",
       "    </tr>\n",
       "    <tr>\n",
       "      <th>3</th>\n",
       "      <td>actor</td>\n",
       "      <td>Alan Tudyk</td>\n",
       "      <td>1</td>\n",
       "    </tr>\n",
       "    <tr>\n",
       "      <th>4</th>\n",
       "      <td>actor</td>\n",
       "      <td>Albert Brooks</td>\n",
       "      <td>1</td>\n",
       "    </tr>\n",
       "  </tbody>\n",
       "</table>\n",
       "</div>"
      ],
      "text/plain": [
       "  category   primary_name  counts\n",
       "0    actor   Aarif Rahman       1\n",
       "1    actor   Adil Hussain       1\n",
       "2    actor    Alan Mathis       1\n",
       "3    actor     Alan Tudyk       1\n",
       "4    actor  Albert Brooks       1"
      ]
     },
     "execution_count": 16,
     "metadata": {},
     "output_type": "execute_result"
    }
   ],
   "source": [
    "#Make Sure Personnel is Alive\n",
    "imdb_alive = imdb_people[imdb_people['death_year'].isnull() == True] \n",
    "\n",
    "#Check if Person is in List of Outliers\n",
    "imdb_outliers = imdb_alive[imdb_alive['primary_title'].isin(outliers_movies_lst)]\n",
    "display(imdb_outliers)\n",
    "\n",
    "#Group Outliers Together to Get Counts\n",
    "grouped = imdb_outliers.groupby(['category','primary_name']).size().reset_index(name='counts')\n",
    "grouped.head()"
   ]
  },
  {
   "cell_type": "markdown",
   "metadata": {},
   "source": [
    "Taking the same concept as before, let's take the creme de la creme, and get the most occurred actors."
   ]
  },
  {
   "cell_type": "code",
   "execution_count": 17,
   "metadata": {
    "ExecuteTime": {
     "end_time": "2022-08-17T20:13:22.708020Z",
     "start_time": "2022-08-17T20:13:05.055Z"
    }
   },
   "outputs": [
    {
     "data": {
      "text/plain": [
       "3.5381775991830686"
      ]
     },
     "execution_count": 17,
     "metadata": {},
     "output_type": "execute_result"
    }
   ],
   "source": [
    "grouped['counts'].mean() + (3 * grouped['counts'].std())"
   ]
  },
  {
   "cell_type": "code",
   "execution_count": 18,
   "metadata": {
    "ExecuteTime": {
     "end_time": "2022-08-17T20:13:22.716510Z",
     "start_time": "2022-08-17T20:13:05.337Z"
    }
   },
   "outputs": [],
   "source": [
    "grouped3 = grouped[grouped['counts'] > 4]"
   ]
  },
  {
   "cell_type": "code",
   "execution_count": 19,
   "metadata": {
    "ExecuteTime": {
     "end_time": "2022-08-17T20:13:22.742580Z",
     "start_time": "2022-08-17T20:13:05.651Z"
    }
   },
   "outputs": [
    {
     "data": {
      "image/png": "[encoded data removed]",
      "text/plain": [
       "<Figure size 432x288 with 1 Axes>"
      ]
     },
     "metadata": {},
     "output_type": "display_data"
    }
   ],
   "source": [
    "ax = sns.barplot(x=\"primary_name\", y=\"counts\", data=grouped3, color=\"#86BC25\", order=grouped3.sort_values('counts', ascending=False).primary_name)\n",
    "sns.set(rc={'figure.figsize':(15,10)})\n",
    "ax.set_title(\"Actor Appearances\")\n",
    "ax.set_xlabel(\"Actor Name\")\n",
    "ax.set_ylabel(\"# of Occurences\")\n",
    "ax.set_xticklabels(ax.get_xticklabels(),rotation = 45)\n",
    "\n",
    "plt.show()"
   ]
  },
  {
   "cell_type": "markdown",
   "metadata": {},
   "source": [
    "I guess Ironman or Captain America could make any film better!"
   ]
  },
  {
   "cell_type": "markdown",
   "metadata": {},
   "source": [
    "# Genre"
   ]
  },
  {
   "cell_type": "markdown",
   "metadata": {},
   "source": [
    "We want to see if there was any difference in worldwide gross between genres to see what kind of genre would be best to produce."
   ]
  },
  {
   "cell_type": "code",
   "execution_count": 20,
   "metadata": {
    "ExecuteTime": {
     "end_time": "2022-08-17T20:13:53.004555Z",
     "start_time": "2022-08-17T20:13:52.444510Z"
    }
   },
   "outputs": [
    {
     "name": "stdout",
     "output_type": "stream",
     "text": [
      "<class 'pandas.core.frame.DataFrame'>\n",
      "Int64Index: 146123 entries, 0 to 146143\n",
      "Data columns (total 6 columns):\n",
      " #   Column           Non-Null Count   Dtype  \n",
      "---  ------           --------------   -----  \n",
      " 0   movie_id         146123 non-null  object \n",
      " 1   primary_title    146123 non-null  object \n",
      " 2   original_title   146123 non-null  object \n",
      " 3   start_year       146123 non-null  int64  \n",
      " 4   runtime_minutes  114401 non-null  float64\n",
      " 5   genres           140734 non-null  object \n",
      "dtypes: float64(1), int64(1), object(4)\n",
      "memory usage: 7.8+ MB\n"
     ]
    }
   ],
   "source": [
    "#Create query \n",
    "q = '''\n",
    "SELECT * \n",
    "FROM movie_basics\n",
    "'''\n",
    "#create a DF from the IMBD sql table\n",
    "imdb_movie_ratings = pd.read_sql(q, conn)\n",
    "#remove na's from the original title due to low numbers\n",
    "imdb_movie_ratings.dropna(subset=['original_title'], inplace = True)\n",
    "imdb_movie_ratings.info()"
   ]
  },
  {
   "cell_type": "markdown",
   "metadata": {},
   "source": [
    "After we have the data from the query, we want to make sure that we can map the titles with The Numbers dataset."
   ]
  },
  {
   "cell_type": "code",
   "execution_count": 21,
   "metadata": {
    "ExecuteTime": {
     "end_time": "2022-08-17T20:14:29.902157Z",
     "start_time": "2022-08-17T20:14:29.674365Z"
    }
   },
   "outputs": [
    {
     "data": {
      "text/html": [
       "<div>\n",
       "<style scoped>\n",
       "    .dataframe tbody tr th:only-of-type {\n",
       "        vertical-align: middle;\n",
       "    }\n",
       "\n",
       "    .dataframe tbody tr th {\n",
       "        vertical-align: top;\n",
       "    }\n",
       "\n",
       "    .dataframe thead th {\n",
       "        text-align: right;\n",
       "    }\n",
       "</style>\n",
       "<table border=\"1\" class=\"dataframe\">\n",
       "  <thead>\n",
       "    <tr style=\"text-align: right;\">\n",
       "      <th></th>\n",
       "      <th>movie_id</th>\n",
       "      <th>primary_title</th>\n",
       "      <th>original_title</th>\n",
       "      <th>start_year</th>\n",
       "      <th>runtime_minutes</th>\n",
       "      <th>genres</th>\n",
       "    </tr>\n",
       "    <tr>\n",
       "      <th>title</th>\n",
       "      <th></th>\n",
       "      <th></th>\n",
       "      <th></th>\n",
       "      <th></th>\n",
       "      <th></th>\n",
       "      <th></th>\n",
       "    </tr>\n",
       "  </thead>\n",
       "  <tbody>\n",
       "    <tr>\n",
       "      <th>sunghursh</th>\n",
       "      <td>tt0063540</td>\n",
       "      <td>Sunghursh</td>\n",
       "      <td>Sunghursh</td>\n",
       "      <td>2013</td>\n",
       "      <td>175.0</td>\n",
       "      <td>Action,Crime,Drama</td>\n",
       "    </tr>\n",
       "    <tr>\n",
       "      <th>ashadkaekdin</th>\n",
       "      <td>tt0066787</td>\n",
       "      <td>One Day Before the Rainy Season</td>\n",
       "      <td>Ashad Ka Ek Din</td>\n",
       "      <td>2019</td>\n",
       "      <td>114.0</td>\n",
       "      <td>Biography,Drama</td>\n",
       "    </tr>\n",
       "    <tr>\n",
       "      <th>theothersideofthewind</th>\n",
       "      <td>tt0069049</td>\n",
       "      <td>The Other Side of the Wind</td>\n",
       "      <td>The Other Side of the Wind</td>\n",
       "      <td>2018</td>\n",
       "      <td>122.0</td>\n",
       "      <td>Drama</td>\n",
       "    </tr>\n",
       "    <tr>\n",
       "      <th>sabsebadasukh</th>\n",
       "      <td>tt0069204</td>\n",
       "      <td>Sabse Bada Sukh</td>\n",
       "      <td>Sabse Bada Sukh</td>\n",
       "      <td>2018</td>\n",
       "      <td>NaN</td>\n",
       "      <td>Comedy,Drama</td>\n",
       "    </tr>\n",
       "    <tr>\n",
       "      <th>latelenovelaerrante</th>\n",
       "      <td>tt0100275</td>\n",
       "      <td>The Wandering Soap Opera</td>\n",
       "      <td>La Telenovela Errante</td>\n",
       "      <td>2017</td>\n",
       "      <td>80.0</td>\n",
       "      <td>Comedy,Drama,Fantasy</td>\n",
       "    </tr>\n",
       "  </tbody>\n",
       "</table>\n",
       "</div>"
      ],
      "text/plain": [
       "                        movie_id                    primary_title  \\\n",
       "title                                                               \n",
       "sunghursh              tt0063540                        Sunghursh   \n",
       "ashadkaekdin           tt0066787  One Day Before the Rainy Season   \n",
       "theothersideofthewind  tt0069049       The Other Side of the Wind   \n",
       "sabsebadasukh          tt0069204                  Sabse Bada Sukh   \n",
       "latelenovelaerrante    tt0100275         The Wandering Soap Opera   \n",
       "\n",
       "                                   original_title  start_year  \\\n",
       "title                                                           \n",
       "sunghursh                               Sunghursh        2013   \n",
       "ashadkaekdin                      Ashad Ka Ek Din        2019   \n",
       "theothersideofthewind  The Other Side of the Wind        2018   \n",
       "sabsebadasukh                     Sabse Bada Sukh        2018   \n",
       "latelenovelaerrante         La Telenovela Errante        2017   \n",
       "\n",
       "                       runtime_minutes                genres  \n",
       "title                                                         \n",
       "sunghursh                        175.0    Action,Crime,Drama  \n",
       "ashadkaekdin                     114.0       Biography,Drama  \n",
       "theothersideofthewind            122.0                 Drama  \n",
       "sabsebadasukh                      NaN          Comedy,Drama  \n",
       "latelenovelaerrante               80.0  Comedy,Drama,Fantasy  "
      ]
     },
     "execution_count": 21,
     "metadata": {},
     "output_type": "execute_result"
    }
   ],
   "source": [
    "#Making a copy just to make sure that we don't manipulate anything from before\n",
    "tn_movie_budgets = the_numbers.copy()\n",
    "\n",
    "#create a column for movie names to merge with other DFs   tn_movie_budgets\n",
    "imdb_movie_ratings['title'] = (\n",
    "    imdb_movie_ratings['original_title'].map(\n",
    "        lambda x :''.join(filter(str.isalnum, x)).lower()))\n",
    "\n",
    "#sets the index on the title field for the merge\n",
    "tn_movie_budgets.set_index('title', inplace=True)\n",
    "imdb_movie_ratings.set_index('title', inplace=True)\n",
    "imdb_movie_ratings.head()"
   ]
  },
  {
   "cell_type": "markdown",
   "metadata": {},
   "source": [
    "Now, let's join the two datasets together."
   ]
  },
  {
   "cell_type": "code",
   "execution_count": 22,
   "metadata": {
    "ExecuteTime": {
     "end_time": "2022-08-17T20:14:39.236425Z",
     "start_time": "2022-08-17T20:14:38.918754Z"
    }
   },
   "outputs": [
    {
     "data": {
      "text/html": [
       "<div>\n",
       "<style scoped>\n",
       "    .dataframe tbody tr th:only-of-type {\n",
       "        vertical-align: middle;\n",
       "    }\n",
       "\n",
       "    .dataframe tbody tr th {\n",
       "        vertical-align: top;\n",
       "    }\n",
       "\n",
       "    .dataframe thead th {\n",
       "        text-align: right;\n",
       "    }\n",
       "</style>\n",
       "<table border=\"1\" class=\"dataframe\">\n",
       "  <thead>\n",
       "    <tr style=\"text-align: right;\">\n",
       "      <th></th>\n",
       "      <th>title</th>\n",
       "      <th>id</th>\n",
       "      <th>release_date</th>\n",
       "      <th>movie</th>\n",
       "      <th>production_budget</th>\n",
       "      <th>domestic_gross</th>\n",
       "      <th>worldwide_gross</th>\n",
       "      <th>days</th>\n",
       "      <th>months</th>\n",
       "      <th>year</th>\n",
       "      <th>z_score</th>\n",
       "      <th>movie_id</th>\n",
       "      <th>primary_title</th>\n",
       "      <th>original_title</th>\n",
       "      <th>start_year</th>\n",
       "      <th>runtime_minutes</th>\n",
       "      <th>genres</th>\n",
       "    </tr>\n",
       "  </thead>\n",
       "  <tbody>\n",
       "    <tr>\n",
       "      <th>0</th>\n",
       "      <td>10cloverfieldlane</td>\n",
       "      <td>54</td>\n",
       "      <td>2016-03-11</td>\n",
       "      <td>10 Cloverfield Lane</td>\n",
       "      <td>5000000</td>\n",
       "      <td>72082999</td>\n",
       "      <td>108286422</td>\n",
       "      <td>Friday</td>\n",
       "      <td>March</td>\n",
       "      <td>2016</td>\n",
       "      <td>0.096148</td>\n",
       "      <td>tt1179933</td>\n",
       "      <td>10 Cloverfield Lane</td>\n",
       "      <td>10 Cloverfield Lane</td>\n",
       "      <td>2016</td>\n",
       "      <td>103.0</td>\n",
       "      <td>Drama,Horror,Mystery</td>\n",
       "    </tr>\n",
       "    <tr>\n",
       "      <th>1</th>\n",
       "      <td>10daysinamadhouse</td>\n",
       "      <td>48</td>\n",
       "      <td>2015-11-11</td>\n",
       "      <td>10 Days in a Madhouse</td>\n",
       "      <td>12000000</td>\n",
       "      <td>14616</td>\n",
       "      <td>14616</td>\n",
       "      <td>Wednesday</td>\n",
       "      <td>November</td>\n",
       "      <td>2015</td>\n",
       "      <td>-0.523540</td>\n",
       "      <td>tt3453052</td>\n",
       "      <td>10 Days in a Madhouse</td>\n",
       "      <td>10 Days in a Madhouse</td>\n",
       "      <td>2015</td>\n",
       "      <td>111.0</td>\n",
       "      <td>Drama</td>\n",
       "    </tr>\n",
       "    <tr>\n",
       "      <th>2</th>\n",
       "      <td>127hours</td>\n",
       "      <td>6</td>\n",
       "      <td>2010-11-05</td>\n",
       "      <td>127 Hours</td>\n",
       "      <td>18000000</td>\n",
       "      <td>18335230</td>\n",
       "      <td>60217171</td>\n",
       "      <td>Friday</td>\n",
       "      <td>November</td>\n",
       "      <td>2010</td>\n",
       "      <td>-0.178974</td>\n",
       "      <td>tt1542344</td>\n",
       "      <td>127 Hours</td>\n",
       "      <td>127 Hours</td>\n",
       "      <td>2010</td>\n",
       "      <td>94.0</td>\n",
       "      <td>Adventure,Biography,Drama</td>\n",
       "    </tr>\n",
       "    <tr>\n",
       "      <th>3</th>\n",
       "      <td>12rounds</td>\n",
       "      <td>37</td>\n",
       "      <td>2009-03-27</td>\n",
       "      <td>12 Rounds</td>\n",
       "      <td>20000000</td>\n",
       "      <td>12234694</td>\n",
       "      <td>17306648</td>\n",
       "      <td>Friday</td>\n",
       "      <td>March</td>\n",
       "      <td>2009</td>\n",
       "      <td>-0.424570</td>\n",
       "      <td>tt3517850</td>\n",
       "      <td>12 Rounds</td>\n",
       "      <td>12 Rounds</td>\n",
       "      <td>2017</td>\n",
       "      <td>NaN</td>\n",
       "      <td>Action,Drama,Romance</td>\n",
       "    </tr>\n",
       "    <tr>\n",
       "      <th>4</th>\n",
       "      <td>12strong</td>\n",
       "      <td>64</td>\n",
       "      <td>2018-01-19</td>\n",
       "      <td>12 Strong</td>\n",
       "      <td>35000000</td>\n",
       "      <td>45819713</td>\n",
       "      <td>71118378</td>\n",
       "      <td>Friday</td>\n",
       "      <td>January</td>\n",
       "      <td>2018</td>\n",
       "      <td>-0.116581</td>\n",
       "      <td>tt1413492</td>\n",
       "      <td>12 Strong</td>\n",
       "      <td>12 Strong</td>\n",
       "      <td>2018</td>\n",
       "      <td>130.0</td>\n",
       "      <td>Action,Drama,History</td>\n",
       "    </tr>\n",
       "  </tbody>\n",
       "</table>\n",
       "</div>"
      ],
      "text/plain": [
       "               title  id release_date                  movie  \\\n",
       "0  10cloverfieldlane  54   2016-03-11    10 Cloverfield Lane   \n",
       "1  10daysinamadhouse  48   2015-11-11  10 Days in a Madhouse   \n",
       "2           127hours   6   2010-11-05              127 Hours   \n",
       "3           12rounds  37   2009-03-27              12 Rounds   \n",
       "4           12strong  64   2018-01-19              12 Strong   \n",
       "\n",
       "   production_budget  domestic_gross  worldwide_gross       days    months  \\\n",
       "0            5000000        72082999        108286422     Friday     March   \n",
       "1           12000000           14616            14616  Wednesday  November   \n",
       "2           18000000        18335230         60217171     Friday  November   \n",
       "3           20000000        12234694         17306648     Friday     March   \n",
       "4           35000000        45819713         71118378     Friday   January   \n",
       "\n",
       "   year   z_score   movie_id          primary_title         original_title  \\\n",
       "0  2016  0.096148  tt1179933    10 Cloverfield Lane    10 Cloverfield Lane   \n",
       "1  2015 -0.523540  tt3453052  10 Days in a Madhouse  10 Days in a Madhouse   \n",
       "2  2010 -0.178974  tt1542344              127 Hours              127 Hours   \n",
       "3  2009 -0.424570  tt3517850              12 Rounds              12 Rounds   \n",
       "4  2018 -0.116581  tt1413492              12 Strong              12 Strong   \n",
       "\n",
       "   start_year  runtime_minutes                     genres  \n",
       "0        2016            103.0       Drama,Horror,Mystery  \n",
       "1        2015            111.0                      Drama  \n",
       "2        2010             94.0  Adventure,Biography,Drama  \n",
       "3        2017              NaN       Action,Drama,Romance  \n",
       "4        2018            130.0       Action,Drama,History  "
      ]
     },
     "execution_count": 22,
     "metadata": {},
     "output_type": "execute_result"
    }
   ],
   "source": [
    "#combine imdb and the numbers tables\n",
    "rating_and_budgets = tn_movie_budgets.join(imdb_movie_ratings, how = 'inner')\n",
    "rating_and_budgets.reset_index(inplace=True)\n",
    "rating_and_budgets = (\n",
    "    rating_and_budgets.drop_duplicates(subset='title', keep=\"first\"))\n",
    "rating_and_budgets.head()"
   ]
  },
  {
   "cell_type": "markdown",
   "metadata": {},
   "source": [
    "We now want to split the genres into a list, not just have it be a string (as it we would need to catagorize the genres later)."
   ]
  },
  {
   "cell_type": "code",
   "execution_count": 23,
   "metadata": {
    "ExecuteTime": {
     "end_time": "2022-08-17T20:14:48.141799Z",
     "start_time": "2022-08-17T20:14:48.107523Z"
    }
   },
   "outputs": [
    {
     "data": {
      "text/html": [
       "<div>\n",
       "<style scoped>\n",
       "    .dataframe tbody tr th:only-of-type {\n",
       "        vertical-align: middle;\n",
       "    }\n",
       "\n",
       "    .dataframe tbody tr th {\n",
       "        vertical-align: top;\n",
       "    }\n",
       "\n",
       "    .dataframe thead th {\n",
       "        text-align: right;\n",
       "    }\n",
       "</style>\n",
       "<table border=\"1\" class=\"dataframe\">\n",
       "  <thead>\n",
       "    <tr style=\"text-align: right;\">\n",
       "      <th></th>\n",
       "      <th>title</th>\n",
       "      <th>id</th>\n",
       "      <th>release_date</th>\n",
       "      <th>movie</th>\n",
       "      <th>production_budget</th>\n",
       "      <th>domestic_gross</th>\n",
       "      <th>worldwide_gross</th>\n",
       "      <th>days</th>\n",
       "      <th>months</th>\n",
       "      <th>year</th>\n",
       "      <th>z_score</th>\n",
       "      <th>movie_id</th>\n",
       "      <th>primary_title</th>\n",
       "      <th>original_title</th>\n",
       "      <th>start_year</th>\n",
       "      <th>runtime_minutes</th>\n",
       "      <th>genres</th>\n",
       "    </tr>\n",
       "  </thead>\n",
       "  <tbody>\n",
       "    <tr>\n",
       "      <th>0</th>\n",
       "      <td>10cloverfieldlane</td>\n",
       "      <td>54</td>\n",
       "      <td>2016-03-11</td>\n",
       "      <td>10 Cloverfield Lane</td>\n",
       "      <td>5000000</td>\n",
       "      <td>72082999</td>\n",
       "      <td>108286422</td>\n",
       "      <td>Friday</td>\n",
       "      <td>March</td>\n",
       "      <td>2016</td>\n",
       "      <td>0.096148</td>\n",
       "      <td>tt1179933</td>\n",
       "      <td>10 Cloverfield Lane</td>\n",
       "      <td>10 Cloverfield Lane</td>\n",
       "      <td>2016</td>\n",
       "      <td>103.0</td>\n",
       "      <td>[Drama, Horror, Mystery]</td>\n",
       "    </tr>\n",
       "    <tr>\n",
       "      <th>1</th>\n",
       "      <td>10daysinamadhouse</td>\n",
       "      <td>48</td>\n",
       "      <td>2015-11-11</td>\n",
       "      <td>10 Days in a Madhouse</td>\n",
       "      <td>12000000</td>\n",
       "      <td>14616</td>\n",
       "      <td>14616</td>\n",
       "      <td>Wednesday</td>\n",
       "      <td>November</td>\n",
       "      <td>2015</td>\n",
       "      <td>-0.523540</td>\n",
       "      <td>tt3453052</td>\n",
       "      <td>10 Days in a Madhouse</td>\n",
       "      <td>10 Days in a Madhouse</td>\n",
       "      <td>2015</td>\n",
       "      <td>111.0</td>\n",
       "      <td>[Drama]</td>\n",
       "    </tr>\n",
       "    <tr>\n",
       "      <th>2</th>\n",
       "      <td>127hours</td>\n",
       "      <td>6</td>\n",
       "      <td>2010-11-05</td>\n",
       "      <td>127 Hours</td>\n",
       "      <td>18000000</td>\n",
       "      <td>18335230</td>\n",
       "      <td>60217171</td>\n",
       "      <td>Friday</td>\n",
       "      <td>November</td>\n",
       "      <td>2010</td>\n",
       "      <td>-0.178974</td>\n",
       "      <td>tt1542344</td>\n",
       "      <td>127 Hours</td>\n",
       "      <td>127 Hours</td>\n",
       "      <td>2010</td>\n",
       "      <td>94.0</td>\n",
       "      <td>[Adventure, Biography, Drama]</td>\n",
       "    </tr>\n",
       "    <tr>\n",
       "      <th>3</th>\n",
       "      <td>12rounds</td>\n",
       "      <td>37</td>\n",
       "      <td>2009-03-27</td>\n",
       "      <td>12 Rounds</td>\n",
       "      <td>20000000</td>\n",
       "      <td>12234694</td>\n",
       "      <td>17306648</td>\n",
       "      <td>Friday</td>\n",
       "      <td>March</td>\n",
       "      <td>2009</td>\n",
       "      <td>-0.424570</td>\n",
       "      <td>tt3517850</td>\n",
       "      <td>12 Rounds</td>\n",
       "      <td>12 Rounds</td>\n",
       "      <td>2017</td>\n",
       "      <td>NaN</td>\n",
       "      <td>[Action, Drama, Romance]</td>\n",
       "    </tr>\n",
       "    <tr>\n",
       "      <th>4</th>\n",
       "      <td>12strong</td>\n",
       "      <td>64</td>\n",
       "      <td>2018-01-19</td>\n",
       "      <td>12 Strong</td>\n",
       "      <td>35000000</td>\n",
       "      <td>45819713</td>\n",
       "      <td>71118378</td>\n",
       "      <td>Friday</td>\n",
       "      <td>January</td>\n",
       "      <td>2018</td>\n",
       "      <td>-0.116581</td>\n",
       "      <td>tt1413492</td>\n",
       "      <td>12 Strong</td>\n",
       "      <td>12 Strong</td>\n",
       "      <td>2018</td>\n",
       "      <td>130.0</td>\n",
       "      <td>[Action, Drama, History]</td>\n",
       "    </tr>\n",
       "  </tbody>\n",
       "</table>\n",
       "</div>"
      ],
      "text/plain": [
       "               title  id release_date                  movie  \\\n",
       "0  10cloverfieldlane  54   2016-03-11    10 Cloverfield Lane   \n",
       "1  10daysinamadhouse  48   2015-11-11  10 Days in a Madhouse   \n",
       "2           127hours   6   2010-11-05              127 Hours   \n",
       "3           12rounds  37   2009-03-27              12 Rounds   \n",
       "4           12strong  64   2018-01-19              12 Strong   \n",
       "\n",
       "   production_budget  domestic_gross  worldwide_gross       days    months  \\\n",
       "0            5000000        72082999        108286422     Friday     March   \n",
       "1           12000000           14616            14616  Wednesday  November   \n",
       "2           18000000        18335230         60217171     Friday  November   \n",
       "3           20000000        12234694         17306648     Friday     March   \n",
       "4           35000000        45819713         71118378     Friday   January   \n",
       "\n",
       "   year   z_score   movie_id          primary_title         original_title  \\\n",
       "0  2016  0.096148  tt1179933    10 Cloverfield Lane    10 Cloverfield Lane   \n",
       "1  2015 -0.523540  tt3453052  10 Days in a Madhouse  10 Days in a Madhouse   \n",
       "2  2010 -0.178974  tt1542344              127 Hours              127 Hours   \n",
       "3  2009 -0.424570  tt3517850              12 Rounds              12 Rounds   \n",
       "4  2018 -0.116581  tt1413492              12 Strong              12 Strong   \n",
       "\n",
       "   start_year  runtime_minutes                         genres  \n",
       "0        2016            103.0       [Drama, Horror, Mystery]  \n",
       "1        2015            111.0                        [Drama]  \n",
       "2        2010             94.0  [Adventure, Biography, Drama]  \n",
       "3        2017              NaN       [Action, Drama, Romance]  \n",
       "4        2018            130.0       [Action, Drama, History]  "
      ]
     },
     "execution_count": 23,
     "metadata": {},
     "output_type": "execute_result"
    }
   ],
   "source": [
    "rating_and_budgets['genres'] =  rating_and_budgets['genres'].str.split(',')\n",
    "rating_and_budgets.head()"
   ]
  },
  {
   "cell_type": "markdown",
   "metadata": {},
   "source": [
    "We want to process the genres now into something more readable. The easiest way to do this would be to One-Hot Encode it so that we can retain all of the information we still have, but compare it to each other more easily. "
   ]
  },
  {
   "cell_type": "code",
   "execution_count": 24,
   "metadata": {
    "ExecuteTime": {
     "end_time": "2022-08-17T20:14:53.571919Z",
     "start_time": "2022-08-17T20:14:53.495753Z"
    }
   },
   "outputs": [],
   "source": [
    "#create dummy collumns to get counts and easy splits\n",
    "rating_and_budgets= (\n",
    "    rating_and_budgets.drop('genres',1).join(\n",
    "        rating_and_budgets.genres.str.join('|').str.get_dummies()))\n"
   ]
  },
  {
   "cell_type": "markdown",
   "metadata": {},
   "source": [
    "Now, let's get a count of all the genres."
   ]
  },
  {
   "cell_type": "code",
   "execution_count": 25,
   "metadata": {
    "ExecuteTime": {
     "end_time": "2022-08-17T20:14:57.456011Z",
     "start_time": "2022-08-17T20:14:57.431772Z"
    }
   },
   "outputs": [
    {
     "name": "stdout",
     "output_type": "stream",
     "text": [
      "Action          558\n",
      "Adventure       428\n",
      "Animation       131\n",
      "Biography       189\n",
      "Comedy          680\n",
      "Crime           310\n",
      "Documentary     196\n",
      "Drama          1144\n",
      "Family          139\n",
      "Fantasy         156\n",
      "History          69\n",
      "Horror          285\n",
      "Music            70\n",
      "Musical          20\n",
      "Mystery         169\n",
      "News              1\n",
      "Romance         276\n",
      "Sci-Fi          176\n",
      "Sport            48\n",
      "Thriller        392\n",
      "War              37\n",
      "Western          20\n",
      "dtype: int64\n"
     ]
    }
   ],
   "source": [
    "#Gets the counts or all of the genre categories\n",
    "counts = rating_and_budgets.iloc[:,16:42].sum()\n",
    "#Highest counts - Drama, comedy\n",
    "print(counts)"
   ]
  },
  {
   "cell_type": "markdown",
   "metadata": {},
   "source": [
    "Let's run some basic stastics on the genres. "
   ]
  },
  {
   "cell_type": "code",
   "execution_count": 26,
   "metadata": {
    "ExecuteTime": {
     "end_time": "2022-08-17T20:15:03.742282Z",
     "start_time": "2022-08-17T20:15:03.624773Z"
    }
   },
   "outputs": [],
   "source": [
    "#Lists for each individual statistics\n",
    "#for genre in counts.index:\n",
    "#    worldwide_gross_median.append(\n",
    "#        rating_and_budgets[rating_and_budgets[genre] == 1]\\\n",
    "#            ['worldwide_gross'].median())\n",
    "\n",
    "# Goes through each category and gets the statistic from it. \n",
    "# Then puts it in a dict with the counts\n",
    "\n",
    "#Creates a new DF for processing\n",
    "randb = rating_and_budgets.copy()\n",
    "#median\n",
    "\n",
    "worldwide_gross_median= [randb[randb[i] == 1]['worldwide_gross'].median() \n",
    "                         for i in counts.index]    \n",
    "median_worldwide_gross = dict(zip(counts.index, worldwide_gross_median))\n",
    "\n",
    "#mode\n",
    "worldwide_gross_means = [randb[randb[i] == 1]['worldwide_gross'].mean() \n",
    "                         for i in counts.index]\n",
    "mean_worldwide_gross = dict(zip(counts.index, worldwide_gross_means))\n",
    "\n",
    "#count\n",
    "worldwide_gross_counts = [randb[randb[i] == 1]['worldwide_gross'].count() \n",
    "                          for i in counts.index]\n",
    "worldwide_gross_counts = dict(zip(counts.index, worldwide_gross_counts))\n",
    "\n",
    "#max\n",
    "worldwide_gross_max = [randb[randb[i] == 1]['worldwide_gross'].max() \n",
    "                       for i in counts.index]\n",
    "worldwide_gross_max = dict(zip(counts.index, worldwide_gross_max))\n",
    "\n",
    "#min\n",
    "worldwide_gross_min = [randb[randb[i] == 1]['worldwide_gross'].min() \n",
    "                       for i in counts.index]\n",
    "worldwide_gross_min = dict(zip(counts.index, worldwide_gross_min))"
   ]
  },
  {
   "cell_type": "code",
   "execution_count": 27,
   "metadata": {
    "ExecuteTime": {
     "end_time": "2022-08-17T20:15:11.149234Z",
     "start_time": "2022-08-17T20:15:11.109253Z"
    }
   },
   "outputs": [
    {
     "data": {
      "text/html": [
       "<div>\n",
       "<style scoped>\n",
       "    .dataframe tbody tr th:only-of-type {\n",
       "        vertical-align: middle;\n",
       "    }\n",
       "\n",
       "    .dataframe tbody tr th {\n",
       "        vertical-align: top;\n",
       "    }\n",
       "\n",
       "    .dataframe thead th {\n",
       "        text-align: right;\n",
       "    }\n",
       "</style>\n",
       "<table border=\"1\" class=\"dataframe\">\n",
       "  <thead>\n",
       "    <tr style=\"text-align: right;\">\n",
       "      <th></th>\n",
       "      <th>title</th>\n",
       "      <th>id</th>\n",
       "      <th>release_date</th>\n",
       "      <th>movie</th>\n",
       "      <th>production_budget</th>\n",
       "      <th>domestic_gross</th>\n",
       "      <th>worldwide_gross</th>\n",
       "      <th>days</th>\n",
       "      <th>months</th>\n",
       "      <th>year</th>\n",
       "      <th>...</th>\n",
       "      <th>Music</th>\n",
       "      <th>Musical</th>\n",
       "      <th>Mystery</th>\n",
       "      <th>News</th>\n",
       "      <th>Romance</th>\n",
       "      <th>Sci-Fi</th>\n",
       "      <th>Sport</th>\n",
       "      <th>Thriller</th>\n",
       "      <th>War</th>\n",
       "      <th>Western</th>\n",
       "    </tr>\n",
       "  </thead>\n",
       "  <tbody>\n",
       "    <tr>\n",
       "      <th>403</th>\n",
       "      <td>bohemianrhapsody</td>\n",
       "      <td>84</td>\n",
       "      <td>2018-11-02</td>\n",
       "      <td>Bohemian Rhapsody</td>\n",
       "      <td>55000000</td>\n",
       "      <td>216303339</td>\n",
       "      <td>894985342</td>\n",
       "      <td>Friday</td>\n",
       "      <td>November</td>\n",
       "      <td>2018</td>\n",
       "      <td>...</td>\n",
       "      <td>1</td>\n",
       "      <td>0</td>\n",
       "      <td>0</td>\n",
       "      <td>0</td>\n",
       "      <td>0</td>\n",
       "      <td>0</td>\n",
       "      <td>0</td>\n",
       "      <td>0</td>\n",
       "      <td>0</td>\n",
       "      <td>0</td>\n",
       "    </tr>\n",
       "    <tr>\n",
       "      <th>248</th>\n",
       "      <td>astarisborn</td>\n",
       "      <td>5</td>\n",
       "      <td>2018-10-05</td>\n",
       "      <td>A Star is Born</td>\n",
       "      <td>36000000</td>\n",
       "      <td>215288866</td>\n",
       "      <td>433449571</td>\n",
       "      <td>Friday</td>\n",
       "      <td>October</td>\n",
       "      <td>2018</td>\n",
       "      <td>...</td>\n",
       "      <td>1</td>\n",
       "      <td>0</td>\n",
       "      <td>0</td>\n",
       "      <td>0</td>\n",
       "      <td>1</td>\n",
       "      <td>0</td>\n",
       "      <td>0</td>\n",
       "      <td>0</td>\n",
       "      <td>0</td>\n",
       "      <td>0</td>\n",
       "    </tr>\n",
       "    <tr>\n",
       "      <th>1583</th>\n",
       "      <td>lalaland</td>\n",
       "      <td>92</td>\n",
       "      <td>2016-12-09</td>\n",
       "      <td>La La Land</td>\n",
       "      <td>20000000</td>\n",
       "      <td>151101803</td>\n",
       "      <td>426351163</td>\n",
       "      <td>Friday</td>\n",
       "      <td>December</td>\n",
       "      <td>2016</td>\n",
       "      <td>...</td>\n",
       "      <td>1</td>\n",
       "      <td>0</td>\n",
       "      <td>0</td>\n",
       "      <td>0</td>\n",
       "      <td>0</td>\n",
       "      <td>0</td>\n",
       "      <td>0</td>\n",
       "      <td>0</td>\n",
       "      <td>0</td>\n",
       "      <td>0</td>\n",
       "    </tr>\n",
       "    <tr>\n",
       "      <th>2101</th>\n",
       "      <td>pitchperfect2</td>\n",
       "      <td>14</td>\n",
       "      <td>2015-05-15</td>\n",
       "      <td>Pitch Perfect 2</td>\n",
       "      <td>29000000</td>\n",
       "      <td>184296230</td>\n",
       "      <td>287625468</td>\n",
       "      <td>Friday</td>\n",
       "      <td>May</td>\n",
       "      <td>2015</td>\n",
       "      <td>...</td>\n",
       "      <td>1</td>\n",
       "      <td>0</td>\n",
       "      <td>0</td>\n",
       "      <td>0</td>\n",
       "      <td>0</td>\n",
       "      <td>0</td>\n",
       "      <td>0</td>\n",
       "      <td>0</td>\n",
       "      <td>0</td>\n",
       "      <td>0</td>\n",
       "    </tr>\n",
       "    <tr>\n",
       "      <th>2102</th>\n",
       "      <td>pitchperfect3</td>\n",
       "      <td>58</td>\n",
       "      <td>2017-12-22</td>\n",
       "      <td>Pitch Perfect 3</td>\n",
       "      <td>45000000</td>\n",
       "      <td>104897530</td>\n",
       "      <td>185736412</td>\n",
       "      <td>Friday</td>\n",
       "      <td>December</td>\n",
       "      <td>2017</td>\n",
       "      <td>...</td>\n",
       "      <td>1</td>\n",
       "      <td>0</td>\n",
       "      <td>0</td>\n",
       "      <td>0</td>\n",
       "      <td>0</td>\n",
       "      <td>0</td>\n",
       "      <td>0</td>\n",
       "      <td>0</td>\n",
       "      <td>0</td>\n",
       "      <td>0</td>\n",
       "    </tr>\n",
       "    <tr>\n",
       "      <th>...</th>\n",
       "      <td>...</td>\n",
       "      <td>...</td>\n",
       "      <td>...</td>\n",
       "      <td>...</td>\n",
       "      <td>...</td>\n",
       "      <td>...</td>\n",
       "      <td>...</td>\n",
       "      <td>...</td>\n",
       "      <td>...</td>\n",
       "      <td>...</td>\n",
       "      <td>...</td>\n",
       "      <td>...</td>\n",
       "      <td>...</td>\n",
       "      <td>...</td>\n",
       "      <td>...</td>\n",
       "      <td>...</td>\n",
       "      <td>...</td>\n",
       "      <td>...</td>\n",
       "      <td>...</td>\n",
       "      <td>...</td>\n",
       "      <td>...</td>\n",
       "    </tr>\n",
       "    <tr>\n",
       "      <th>147</th>\n",
       "      <td>alongtheroadside</td>\n",
       "      <td>91</td>\n",
       "      <td>2015-03-24</td>\n",
       "      <td>Along the Roadside</td>\n",
       "      <td>250000</td>\n",
       "      <td>0</td>\n",
       "      <td>3234</td>\n",
       "      <td>Tuesday</td>\n",
       "      <td>March</td>\n",
       "      <td>2015</td>\n",
       "      <td>...</td>\n",
       "      <td>1</td>\n",
       "      <td>0</td>\n",
       "      <td>0</td>\n",
       "      <td>0</td>\n",
       "      <td>1</td>\n",
       "      <td>0</td>\n",
       "      <td>0</td>\n",
       "      <td>0</td>\n",
       "      <td>0</td>\n",
       "      <td>0</td>\n",
       "    </tr>\n",
       "    <tr>\n",
       "      <th>162</th>\n",
       "      <td>americanhero</td>\n",
       "      <td>3</td>\n",
       "      <td>2015-12-11</td>\n",
       "      <td>American Hero</td>\n",
       "      <td>1000000</td>\n",
       "      <td>0</td>\n",
       "      <td>26</td>\n",
       "      <td>Friday</td>\n",
       "      <td>December</td>\n",
       "      <td>2015</td>\n",
       "      <td>...</td>\n",
       "      <td>1</td>\n",
       "      <td>0</td>\n",
       "      <td>0</td>\n",
       "      <td>0</td>\n",
       "      <td>0</td>\n",
       "      <td>0</td>\n",
       "      <td>0</td>\n",
       "      <td>0</td>\n",
       "      <td>0</td>\n",
       "      <td>0</td>\n",
       "    </tr>\n",
       "    <tr>\n",
       "      <th>3220</th>\n",
       "      <td>theresaisamother</td>\n",
       "      <td>40</td>\n",
       "      <td>2015-09-29</td>\n",
       "      <td>Theresa Is a Mother</td>\n",
       "      <td>200000</td>\n",
       "      <td>0</td>\n",
       "      <td>0</td>\n",
       "      <td>Tuesday</td>\n",
       "      <td>September</td>\n",
       "      <td>2015</td>\n",
       "      <td>...</td>\n",
       "      <td>1</td>\n",
       "      <td>0</td>\n",
       "      <td>0</td>\n",
       "      <td>0</td>\n",
       "      <td>0</td>\n",
       "      <td>0</td>\n",
       "      <td>0</td>\n",
       "      <td>0</td>\n",
       "      <td>0</td>\n",
       "      <td>0</td>\n",
       "    </tr>\n",
       "    <tr>\n",
       "      <th>2548</th>\n",
       "      <td>steelspirit</td>\n",
       "      <td>58</td>\n",
       "      <td>2003-12-01</td>\n",
       "      <td>Steel Spirit</td>\n",
       "      <td>20000</td>\n",
       "      <td>0</td>\n",
       "      <td>0</td>\n",
       "      <td>Monday</td>\n",
       "      <td>December</td>\n",
       "      <td>2003</td>\n",
       "      <td>...</td>\n",
       "      <td>1</td>\n",
       "      <td>0</td>\n",
       "      <td>0</td>\n",
       "      <td>0</td>\n",
       "      <td>0</td>\n",
       "      <td>0</td>\n",
       "      <td>0</td>\n",
       "      <td>0</td>\n",
       "      <td>0</td>\n",
       "      <td>0</td>\n",
       "    </tr>\n",
       "    <tr>\n",
       "      <th>3107</th>\n",
       "      <td>themagicflute</td>\n",
       "      <td>18</td>\n",
       "      <td>2006-12-31</td>\n",
       "      <td>The Magic Flute</td>\n",
       "      <td>27000000</td>\n",
       "      <td>0</td>\n",
       "      <td>0</td>\n",
       "      <td>Sunday</td>\n",
       "      <td>December</td>\n",
       "      <td>2006</td>\n",
       "      <td>...</td>\n",
       "      <td>1</td>\n",
       "      <td>0</td>\n",
       "      <td>0</td>\n",
       "      <td>0</td>\n",
       "      <td>0</td>\n",
       "      <td>0</td>\n",
       "      <td>0</td>\n",
       "      <td>0</td>\n",
       "      <td>0</td>\n",
       "      <td>0</td>\n",
       "    </tr>\n",
       "  </tbody>\n",
       "</table>\n",
       "<p>70 rows × 38 columns</p>\n",
       "</div>"
      ],
      "text/plain": [
       "                 title  id release_date                movie  \\\n",
       "403   bohemianrhapsody  84   2018-11-02    Bohemian Rhapsody   \n",
       "248        astarisborn   5   2018-10-05       A Star is Born   \n",
       "1583          lalaland  92   2016-12-09           La La Land   \n",
       "2101     pitchperfect2  14   2015-05-15      Pitch Perfect 2   \n",
       "2102     pitchperfect3  58   2017-12-22      Pitch Perfect 3   \n",
       "...                ...  ..          ...                  ...   \n",
       "147   alongtheroadside  91   2015-03-24   Along the Roadside   \n",
       "162       americanhero   3   2015-12-11        American Hero   \n",
       "3220  theresaisamother  40   2015-09-29  Theresa Is a Mother   \n",
       "2548       steelspirit  58   2003-12-01         Steel Spirit   \n",
       "3107     themagicflute  18   2006-12-31      The Magic Flute   \n",
       "\n",
       "      production_budget  domestic_gross  worldwide_gross     days     months  \\\n",
       "403            55000000       216303339        894985342   Friday   November   \n",
       "248            36000000       215288866        433449571   Friday    October   \n",
       "1583           20000000       151101803        426351163   Friday   December   \n",
       "2101           29000000       184296230        287625468   Friday        May   \n",
       "2102           45000000       104897530        185736412   Friday   December   \n",
       "...                 ...             ...              ...      ...        ...   \n",
       "147              250000               0             3234  Tuesday      March   \n",
       "162             1000000               0               26   Friday   December   \n",
       "3220             200000               0                0  Tuesday  September   \n",
       "2548              20000               0                0   Monday   December   \n",
       "3107           27000000               0                0   Sunday   December   \n",
       "\n",
       "      year  ...  Music Musical Mystery News  Romance  Sci-Fi  Sport  Thriller  \\\n",
       "403   2018  ...      1       0       0    0        0       0      0         0   \n",
       "248   2018  ...      1       0       0    0        1       0      0         0   \n",
       "1583  2016  ...      1       0       0    0        0       0      0         0   \n",
       "2101  2015  ...      1       0       0    0        0       0      0         0   \n",
       "2102  2017  ...      1       0       0    0        0       0      0         0   \n",
       "...    ...  ...    ...     ...     ...  ...      ...     ...    ...       ...   \n",
       "147   2015  ...      1       0       0    0        1       0      0         0   \n",
       "162   2015  ...      1       0       0    0        0       0      0         0   \n",
       "3220  2015  ...      1       0       0    0        0       0      0         0   \n",
       "2548  2003  ...      1       0       0    0        0       0      0         0   \n",
       "3107  2006  ...      1       0       0    0        0       0      0         0   \n",
       "\n",
       "      War  Western  \n",
       "403     0        0  \n",
       "248     0        0  \n",
       "1583    0        0  \n",
       "2101    0        0  \n",
       "2102    0        0  \n",
       "...   ...      ...  \n",
       "147     0        0  \n",
       "162     0        0  \n",
       "3220    0        0  \n",
       "2548    0        0  \n",
       "3107    0        0  \n",
       "\n",
       "[70 rows x 38 columns]"
      ]
     },
     "execution_count": 27,
     "metadata": {},
     "output_type": "execute_result"
    }
   ],
   "source": [
    "#sorts the values for data exploration\n",
    "rating_and_budgets[rating_and_budgets['Music']==1].sort_values(\n",
    "                                            'worldwide_gross',ascending=False)"
   ]
  },
  {
   "cell_type": "markdown",
   "metadata": {},
   "source": [
    "For easier access, let's create a dataframe of all the statistics."
   ]
  },
  {
   "cell_type": "code",
   "execution_count": 28,
   "metadata": {
    "ExecuteTime": {
     "end_time": "2022-08-17T20:15:18.485404Z",
     "start_time": "2022-08-17T20:15:18.465215Z"
    }
   },
   "outputs": [],
   "source": [
    "#creates dataframe to highlight the stats\n",
    "movie_stats = pd.DataFrame(\n",
    "    zip(median_worldwide_gross.values(), \n",
    "        mean_worldwide_gross.values(), \n",
    "        worldwide_gross_counts.values(), \n",
    "        worldwide_gross_max.values(),\n",
    "        worldwide_gross_min.values()),\n",
    "    median_worldwide_gross.keys(),\n",
    "        ['Medians','Means','Counts','Max','Min'])"
   ]
  },
  {
   "cell_type": "code",
   "execution_count": 29,
   "metadata": {
    "ExecuteTime": {
     "end_time": "2022-08-17T20:15:24.415891Z",
     "start_time": "2022-08-17T20:15:24.397536Z"
    }
   },
   "outputs": [
    {
     "data": {
      "text/html": [
       "<div>\n",
       "<style scoped>\n",
       "    .dataframe tbody tr th:only-of-type {\n",
       "        vertical-align: middle;\n",
       "    }\n",
       "\n",
       "    .dataframe tbody tr th {\n",
       "        vertical-align: top;\n",
       "    }\n",
       "\n",
       "    .dataframe thead th {\n",
       "        text-align: right;\n",
       "    }\n",
       "</style>\n",
       "<table border=\"1\" class=\"dataframe\">\n",
       "  <thead>\n",
       "    <tr style=\"text-align: right;\">\n",
       "      <th></th>\n",
       "      <th>Medians</th>\n",
       "      <th>Means</th>\n",
       "      <th>Counts</th>\n",
       "      <th>Max</th>\n",
       "      <th>Min</th>\n",
       "    </tr>\n",
       "  </thead>\n",
       "  <tbody>\n",
       "    <tr>\n",
       "      <th>Animation</th>\n",
       "      <td>197578586.0</td>\n",
       "      <td>3.006570e+08</td>\n",
       "      <td>131</td>\n",
       "      <td>1242520711</td>\n",
       "      <td>0</td>\n",
       "    </tr>\n",
       "    <tr>\n",
       "      <th>Adventure</th>\n",
       "      <td>182667975.0</td>\n",
       "      <td>3.034551e+08</td>\n",
       "      <td>428</td>\n",
       "      <td>2208208395</td>\n",
       "      <td>0</td>\n",
       "    </tr>\n",
       "    <tr>\n",
       "      <th>Action</th>\n",
       "      <td>87359119.5</td>\n",
       "      <td>1.993443e+08</td>\n",
       "      <td>558</td>\n",
       "      <td>2048134200</td>\n",
       "      <td>0</td>\n",
       "    </tr>\n",
       "    <tr>\n",
       "      <th>Fantasy</th>\n",
       "      <td>84720721.5</td>\n",
       "      <td>2.078764e+08</td>\n",
       "      <td>156</td>\n",
       "      <td>1259199706</td>\n",
       "      <td>0</td>\n",
       "    </tr>\n",
       "    <tr>\n",
       "      <th>Sci-Fi</th>\n",
       "      <td>79476525.5</td>\n",
       "      <td>2.553969e+08</td>\n",
       "      <td>176</td>\n",
       "      <td>2048134200</td>\n",
       "      <td>0</td>\n",
       "    </tr>\n",
       "    <tr>\n",
       "      <th>News</th>\n",
       "      <td>57293371.0</td>\n",
       "      <td>5.729337e+07</td>\n",
       "      <td>1</td>\n",
       "      <td>57293371</td>\n",
       "      <td>57293371</td>\n",
       "    </tr>\n",
       "    <tr>\n",
       "      <th>Comedy</th>\n",
       "      <td>46055025.0</td>\n",
       "      <td>1.122968e+08</td>\n",
       "      <td>680</td>\n",
       "      <td>1160336173</td>\n",
       "      <td>0</td>\n",
       "    </tr>\n",
       "    <tr>\n",
       "      <th>Family</th>\n",
       "      <td>42174545.0</td>\n",
       "      <td>1.401701e+08</td>\n",
       "      <td>139</td>\n",
       "      <td>1259199706</td>\n",
       "      <td>0</td>\n",
       "    </tr>\n",
       "    <tr>\n",
       "      <th>Mystery</th>\n",
       "      <td>34246770.0</td>\n",
       "      <td>7.642743e+07</td>\n",
       "      <td>169</td>\n",
       "      <td>586464305</td>\n",
       "      <td>0</td>\n",
       "    </tr>\n",
       "    <tr>\n",
       "      <th>Musical</th>\n",
       "      <td>30128794.5</td>\n",
       "      <td>1.309215e+08</td>\n",
       "      <td>20</td>\n",
       "      <td>1259199706</td>\n",
       "      <td>0</td>\n",
       "    </tr>\n",
       "    <tr>\n",
       "      <th>Crime</th>\n",
       "      <td>27552360.5</td>\n",
       "      <td>6.265413e+07</td>\n",
       "      <td>310</td>\n",
       "      <td>1234846267</td>\n",
       "      <td>0</td>\n",
       "    </tr>\n",
       "    <tr>\n",
       "      <th>Thriller</th>\n",
       "      <td>25696249.5</td>\n",
       "      <td>8.100579e+07</td>\n",
       "      <td>392</td>\n",
       "      <td>1234846267</td>\n",
       "      <td>0</td>\n",
       "    </tr>\n",
       "    <tr>\n",
       "      <th>Biography</th>\n",
       "      <td>25187026.0</td>\n",
       "      <td>6.652760e+07</td>\n",
       "      <td>189</td>\n",
       "      <td>894985342</td>\n",
       "      <td>0</td>\n",
       "    </tr>\n",
       "    <tr>\n",
       "      <th>Romance</th>\n",
       "      <td>22074698.5</td>\n",
       "      <td>5.774931e+07</td>\n",
       "      <td>276</td>\n",
       "      <td>570998101</td>\n",
       "      <td>0</td>\n",
       "    </tr>\n",
       "    <tr>\n",
       "      <th>Sport</th>\n",
       "      <td>19201039.5</td>\n",
       "      <td>6.734483e+07</td>\n",
       "      <td>48</td>\n",
       "      <td>1272469910</td>\n",
       "      <td>0</td>\n",
       "    </tr>\n",
       "    <tr>\n",
       "      <th>Drama</th>\n",
       "      <td>18749625.5</td>\n",
       "      <td>6.184505e+07</td>\n",
       "      <td>1144</td>\n",
       "      <td>1272469910</td>\n",
       "      <td>0</td>\n",
       "    </tr>\n",
       "    <tr>\n",
       "      <th>Horror</th>\n",
       "      <td>18344729.0</td>\n",
       "      <td>5.423266e+07</td>\n",
       "      <td>285</td>\n",
       "      <td>697457969</td>\n",
       "      <td>0</td>\n",
       "    </tr>\n",
       "    <tr>\n",
       "      <th>Music</th>\n",
       "      <td>17092887.5</td>\n",
       "      <td>6.308906e+07</td>\n",
       "      <td>70</td>\n",
       "      <td>894985342</td>\n",
       "      <td>0</td>\n",
       "    </tr>\n",
       "    <tr>\n",
       "      <th>History</th>\n",
       "      <td>16891011.0</td>\n",
       "      <td>5.418766e+07</td>\n",
       "      <td>69</td>\n",
       "      <td>499837368</td>\n",
       "      <td>0</td>\n",
       "    </tr>\n",
       "    <tr>\n",
       "      <th>War</th>\n",
       "      <td>16038343.0</td>\n",
       "      <td>5.559716e+07</td>\n",
       "      <td>37</td>\n",
       "      <td>330780051</td>\n",
       "      <td>0</td>\n",
       "    </tr>\n",
       "    <tr>\n",
       "      <th>Documentary</th>\n",
       "      <td>8990022.5</td>\n",
       "      <td>4.729548e+07</td>\n",
       "      <td>196</td>\n",
       "      <td>457683805</td>\n",
       "      <td>0</td>\n",
       "    </tr>\n",
       "    <tr>\n",
       "      <th>Western</th>\n",
       "      <td>8332261.5</td>\n",
       "      <td>6.696936e+07</td>\n",
       "      <td>20</td>\n",
       "      <td>449948323</td>\n",
       "      <td>0</td>\n",
       "    </tr>\n",
       "  </tbody>\n",
       "</table>\n",
       "</div>"
      ],
      "text/plain": [
       "                 Medians         Means  Counts         Max       Min\n",
       "Animation    197578586.0  3.006570e+08     131  1242520711         0\n",
       "Adventure    182667975.0  3.034551e+08     428  2208208395         0\n",
       "Action        87359119.5  1.993443e+08     558  2048134200         0\n",
       "Fantasy       84720721.5  2.078764e+08     156  1259199706         0\n",
       "Sci-Fi        79476525.5  2.553969e+08     176  2048134200         0\n",
       "News          57293371.0  5.729337e+07       1    57293371  57293371\n",
       "Comedy        46055025.0  1.122968e+08     680  1160336173         0\n",
       "Family        42174545.0  1.401701e+08     139  1259199706         0\n",
       "Mystery       34246770.0  7.642743e+07     169   586464305         0\n",
       "Musical       30128794.5  1.309215e+08      20  1259199706         0\n",
       "Crime         27552360.5  6.265413e+07     310  1234846267         0\n",
       "Thriller      25696249.5  8.100579e+07     392  1234846267         0\n",
       "Biography     25187026.0  6.652760e+07     189   894985342         0\n",
       "Romance       22074698.5  5.774931e+07     276   570998101         0\n",
       "Sport         19201039.5  6.734483e+07      48  1272469910         0\n",
       "Drama         18749625.5  6.184505e+07    1144  1272469910         0\n",
       "Horror        18344729.0  5.423266e+07     285   697457969         0\n",
       "Music         17092887.5  6.308906e+07      70   894985342         0\n",
       "History       16891011.0  5.418766e+07      69   499837368         0\n",
       "War           16038343.0  5.559716e+07      37   330780051         0\n",
       "Documentary    8990022.5  4.729548e+07     196   457683805         0\n",
       "Western        8332261.5  6.696936e+07      20   449948323         0"
      ]
     },
     "execution_count": 29,
     "metadata": {},
     "output_type": "execute_result"
    }
   ],
   "source": [
    "#sorts the DF by median\n",
    "movie_stats.sort_values('Medians', ascending=False)"
   ]
  },
  {
   "cell_type": "markdown",
   "metadata": {},
   "source": [
    "Let's explore the distribution of the genres. "
   ]
  },
  {
   "cell_type": "code",
   "execution_count": 30,
   "metadata": {
    "ExecuteTime": {
     "end_time": "2022-08-17T20:15:32.096562Z",
     "start_time": "2022-08-17T20:15:31.727017Z"
    }
   },
   "outputs": [
    {
     "data": {
      "text/plain": [
       "<AxesSubplot:xlabel='worldwide_gross', ylabel='Density'>"
      ]
     },
     "execution_count": 30,
     "metadata": {},
     "output_type": "execute_result"
    },
    {
     "data": {
      "image/png": "[encoded data removed]",
      "text/plain": [
       "<Figure size 1080x720 with 1 Axes>"
      ]
     },
     "metadata": {},
     "output_type": "display_data"
    }
   ],
   "source": [
    "#plot the distribution of overall and the category\n",
    "sns.distplot(rating_and_budgets['worldwide_gross'])\n",
    "sns.distplot(\n",
    "    rating_and_budgets[rating_and_budgets['Sci-Fi']==1]['worldwide_gross'])"
   ]
  },
  {
   "cell_type": "markdown",
   "metadata": {},
   "source": [
    "We can see a right skew of the data from the graph above."
   ]
  },
  {
   "cell_type": "markdown",
   "metadata": {},
   "source": [
    "# Statistical Test for Animation\n",
    "\n",
    "We are using a hypothesis test to determine if there was a significant difference between the worldwide gross of animated movies compared to the rest of the sample of movies. We used a 1 sample t-test instead of a graph so that we could see if the difference was statistically significant. \n",
    "\n",
    "Null Hypothesis: Animation Movies produce the same Worldwide Gross as other genres of movies.\n",
    "\n",
    "Alternative Hypothesis: Animation Movies produce a higher Worldwide Gross than other genres of movies.\n",
    "\n",
    "Alpha: 0.05\n"
   ]
  },
  {
   "cell_type": "code",
   "execution_count": 31,
   "metadata": {
    "ExecuteTime": {
     "end_time": "2022-08-17T20:15:40.722128Z",
     "start_time": "2022-08-17T20:15:40.701207Z"
    }
   },
   "outputs": [],
   "source": [
    "#Creates two DFs, one with Sci-Fi and one without\n",
    "animated_movies = rating_and_budgets[rating_and_budgets['Animation'] == 1]\n",
    "not_animated_movies = rating_and_budgets[rating_and_budgets['Animation'] == 0]"
   ]
  },
  {
   "cell_type": "code",
   "execution_count": 32,
   "metadata": {
    "ExecuteTime": {
     "end_time": "2022-08-17T20:15:45.482156Z",
     "start_time": "2022-08-17T20:15:45.462824Z"
    }
   },
   "outputs": [
    {
     "data": {
      "text/plain": [
       "Ttest_indResult(statistic=11.819691277138588, pvalue=2.2692702400680073e-31)"
      ]
     },
     "execution_count": 32,
     "metadata": {},
     "output_type": "execute_result"
    }
   ],
   "source": [
    "#Runs a ttest\n",
    "stats.ttest_ind(animated_movies['worldwide_gross'], \n",
    "                not_animated_movies['worldwide_gross'])"
   ]
  },
  {
   "cell_type": "markdown",
   "metadata": {},
   "source": [
    "With a p-value that is approaching 0, we can reject the null hypothesis and say that there is a significant difference between Animated movies gross compared to other genres' worldwide gross.\n",
    "\n",
    "We do want to address the limitations of this test. The largest issue that comes here is due to the skewness of the data. This is likely due to the data collection hear, as the database with the production value and worldwide gross only has around 4k movies, compared to the 150k+ movies on the IMDB database. These movies also appear to be larger movies that have a much higher production value.\n",
    "\n",
    "Just out of curiousity, we ran this test on the other genres as well."
   ]
  },
  {
   "cell_type": "code",
   "execution_count": 33,
   "metadata": {
    "ExecuteTime": {
     "end_time": "2022-08-17T20:15:51.158285Z",
     "start_time": "2022-08-17T20:15:51.070587Z"
    }
   },
   "outputs": [],
   "source": [
    "#Does the above tests for every genre\n",
    "ttest_res = []\n",
    "for genre in counts.index:\n",
    "    genre_movie = rating_and_budgets[rating_and_budgets[genre] == 1]\n",
    "    not_genre_movies = rating_and_budgets[rating_and_budgets[genre] == 0]\n",
    "    ttest_res.append(stats.ttest_ind(genre_movie['worldwide_gross'], \n",
    "                                     not_genre_movies['worldwide_gross']))\n",
    "#Warning happens due to th T-test being ran on news, which has 2 samples"
   ]
  },
  {
   "cell_type": "code",
   "execution_count": 34,
   "metadata": {
    "ExecuteTime": {
     "end_time": "2022-08-17T20:15:58.752669Z",
     "start_time": "2022-08-17T20:15:58.738039Z"
    }
   },
   "outputs": [],
   "source": [
    "#Creates a DF for all the t-statistics and pvals\n",
    "tscores = pd.DataFrame(dict(zip(counts.index, ttest_res)), \n",
    "                       [\"Statistic\", \"Pvalue\"]).T"
   ]
  },
  {
   "cell_type": "code",
   "execution_count": 35,
   "metadata": {
    "ExecuteTime": {
     "end_time": "2022-08-17T20:16:02.072719Z",
     "start_time": "2022-08-17T20:16:02.053829Z"
    }
   },
   "outputs": [
    {
     "data": {
      "text/html": [
       "<div>\n",
       "<style scoped>\n",
       "    .dataframe tbody tr th:only-of-type {\n",
       "        vertical-align: middle;\n",
       "    }\n",
       "\n",
       "    .dataframe tbody tr th {\n",
       "        vertical-align: top;\n",
       "    }\n",
       "\n",
       "    .dataframe thead th {\n",
       "        text-align: right;\n",
       "    }\n",
       "</style>\n",
       "<table border=\"1\" class=\"dataframe\">\n",
       "  <thead>\n",
       "    <tr style=\"text-align: right;\">\n",
       "      <th></th>\n",
       "      <th>Statistic</th>\n",
       "      <th>Pvalue</th>\n",
       "    </tr>\n",
       "  </thead>\n",
       "  <tbody>\n",
       "    <tr>\n",
       "      <th>Drama</th>\n",
       "      <td>-10.456188</td>\n",
       "      <td>4.725722e-25</td>\n",
       "    </tr>\n",
       "    <tr>\n",
       "      <th>Horror</th>\n",
       "      <td>-4.632482</td>\n",
       "      <td>3.807083e-06</td>\n",
       "    </tr>\n",
       "    <tr>\n",
       "      <th>Documentary</th>\n",
       "      <td>-4.269255</td>\n",
       "      <td>2.037877e-05</td>\n",
       "    </tr>\n",
       "    <tr>\n",
       "      <th>Romance</th>\n",
       "      <td>-4.233917</td>\n",
       "      <td>2.383419e-05</td>\n",
       "    </tr>\n",
       "    <tr>\n",
       "      <th>Crime</th>\n",
       "      <td>-4.057785</td>\n",
       "      <td>5.113105e-05</td>\n",
       "    </tr>\n",
       "    <tr>\n",
       "      <th>Biography</th>\n",
       "      <td>-2.796640</td>\n",
       "      <td>5.205042e-03</td>\n",
       "    </tr>\n",
       "    <tr>\n",
       "      <th>Thriller</th>\n",
       "      <td>-2.656510</td>\n",
       "      <td>7.947929e-03</td>\n",
       "    </tr>\n",
       "    <tr>\n",
       "      <th>History</th>\n",
       "      <td>-2.165104</td>\n",
       "      <td>3.047846e-02</td>\n",
       "    </tr>\n",
       "    <tr>\n",
       "      <th>Mystery</th>\n",
       "      <td>-1.962300</td>\n",
       "      <td>4.984347e-02</td>\n",
       "    </tr>\n",
       "    <tr>\n",
       "      <th>Music</th>\n",
       "      <td>-1.802306</td>\n",
       "      <td>7.162329e-02</td>\n",
       "    </tr>\n",
       "    <tr>\n",
       "      <th>War</th>\n",
       "      <td>-1.530645</td>\n",
       "      <td>1.259896e-01</td>\n",
       "    </tr>\n",
       "    <tr>\n",
       "      <th>Sport</th>\n",
       "      <td>-1.335975</td>\n",
       "      <td>1.816847e-01</td>\n",
       "    </tr>\n",
       "    <tr>\n",
       "      <th>Western</th>\n",
       "      <td>-0.865509</td>\n",
       "      <td>3.868466e-01</td>\n",
       "    </tr>\n",
       "    <tr>\n",
       "      <th>Musical</th>\n",
       "      <td>0.570856</td>\n",
       "      <td>5.681511e-01</td>\n",
       "    </tr>\n",
       "    <tr>\n",
       "      <th>Comedy</th>\n",
       "      <td>1.047406</td>\n",
       "      <td>2.950184e-01</td>\n",
       "    </tr>\n",
       "    <tr>\n",
       "      <th>Family</th>\n",
       "      <td>2.107876</td>\n",
       "      <td>3.514564e-02</td>\n",
       "    </tr>\n",
       "    <tr>\n",
       "      <th>Fantasy</th>\n",
       "      <td>6.674639</td>\n",
       "      <td>3.070756e-11</td>\n",
       "    </tr>\n",
       "    <tr>\n",
       "      <th>Sci-Fi</th>\n",
       "      <td>10.570234</td>\n",
       "      <td>1.487174e-25</td>\n",
       "    </tr>\n",
       "    <tr>\n",
       "      <th>Animation</th>\n",
       "      <td>11.819691</td>\n",
       "      <td>2.269270e-31</td>\n",
       "    </tr>\n",
       "    <tr>\n",
       "      <th>Action</th>\n",
       "      <td>13.107347</td>\n",
       "      <td>5.900928e-38</td>\n",
       "    </tr>\n",
       "    <tr>\n",
       "      <th>Adventure</th>\n",
       "      <td>25.489776</td>\n",
       "      <td>5.633579e-127</td>\n",
       "    </tr>\n",
       "    <tr>\n",
       "      <th>News</th>\n",
       "      <td>NaN</td>\n",
       "      <td>NaN</td>\n",
       "    </tr>\n",
       "  </tbody>\n",
       "</table>\n",
       "</div>"
      ],
      "text/plain": [
       "             Statistic         Pvalue\n",
       "Drama       -10.456188   4.725722e-25\n",
       "Horror       -4.632482   3.807083e-06\n",
       "Documentary  -4.269255   2.037877e-05\n",
       "Romance      -4.233917   2.383419e-05\n",
       "Crime        -4.057785   5.113105e-05\n",
       "Biography    -2.796640   5.205042e-03\n",
       "Thriller     -2.656510   7.947929e-03\n",
       "History      -2.165104   3.047846e-02\n",
       "Mystery      -1.962300   4.984347e-02\n",
       "Music        -1.802306   7.162329e-02\n",
       "War          -1.530645   1.259896e-01\n",
       "Sport        -1.335975   1.816847e-01\n",
       "Western      -0.865509   3.868466e-01\n",
       "Musical       0.570856   5.681511e-01\n",
       "Comedy        1.047406   2.950184e-01\n",
       "Family        2.107876   3.514564e-02\n",
       "Fantasy       6.674639   3.070756e-11\n",
       "Sci-Fi       10.570234   1.487174e-25\n",
       "Animation    11.819691   2.269270e-31\n",
       "Action       13.107347   5.900928e-38\n",
       "Adventure    25.489776  5.633579e-127\n",
       "News               NaN            NaN"
      ]
     },
     "execution_count": 35,
     "metadata": {},
     "output_type": "execute_result"
    }
   ],
   "source": [
    "#sorts the df by statistic\n",
    "tscores.sort_values('Statistic')"
   ]
  },
  {
   "cell_type": "markdown",
   "metadata": {
    "ExecuteTime": {
     "end_time": "2022-08-17T20:16:23.332061Z",
     "start_time": "2022-08-17T20:16:23.310321Z"
    }
   },
   "source": [
    "Let's now plot to see how the worldwide gross compares for each genre."
   ]
  },
  {
   "cell_type": "code",
   "execution_count": 36,
   "metadata": {
    "ExecuteTime": {
     "end_time": "2022-08-18T21:47:48.804009Z",
     "start_time": "2022-08-18T21:47:47.951421Z"
    },
    "scrolled": false
   },
   "outputs": [
    {
     "data": {
      "image/png": "[encoded data removed]",
      "text/plain": [
       "<Figure size 1440x720 with 1 Axes>"
      ]
     },
     "metadata": {},
     "output_type": "display_data"
    }
   ],
   "source": [
    "#Sets the theme to seaborn\n",
    "sns.set_theme()\n",
    "\n",
    "#Set a default font\n",
    "font = {'fontname':'Calibri'}\n",
    "\n",
    "#Remove News as there is only 1 sample\n",
    "cleaned_stats = movie_stats.drop(\n",
    "    index='News').sort_values('Medians', ascending=False)\n",
    "\n",
    "#Create figure\n",
    "fig, ax = plt.subplots(figsize=(20,10))\n",
    "\n",
    "#Create a bar plot for all of the medians for each genre\n",
    "ax.bar(range(0,len(cleaned_stats['Medians'])), \n",
    "       list(cleaned_stats['Medians']), \n",
    "       color = '#86BC25',\n",
    "       edgecolor = \"black\")\n",
    "\n",
    "#Creates the xticks\n",
    "ax.set_xticks(range(0,len(cleaned_stats['Medians'])))\n",
    "ax.set_xticklabels(list(cleaned_stats.index.values),\n",
    "                   rotation = 35,\n",
    "                   fontsize = 16)\n",
    "\n",
    "#Sets the tables and the titles\n",
    "ax.set_xlabel('Genre', fontsize = 24,**font)\n",
    "ax.set_ylabel('Median Worldwide Gross', fontsize=24,**font)\n",
    "ax.set_title('Worldwide Gross by Genre', fontsize=26,**font)\n",
    "\n",
    "#Cleans up the formatting of ticks\n",
    "ax.get_yaxis().set_major_formatter(\n",
    "    matplotlib.ticker.FuncFormatter(lambda x, p: format(int(x), ',')))\n",
    "plt.yticks(fontsize=14)\n",
    "\n",
    "#plot 3rd Quantile gross line line\n",
    "plt.axhline(y = rating_and_budgets['worldwide_gross'].quantile(.75), \n",
    "            color = '#0D8390', linestyle = '-', \n",
    "            label = '3rd Quantile Worldwide Gross ≈ 110M')\n",
    "\n",
    "#Shows the legend\n",
    "ax.legend(prop={'size': 16})\n",
    "#Set the legend font\n",
    "matplotlib.rc('font',family='Times New Roman')\n",
    "\n",
    "plt.show()"
   ]
  },
  {
   "cell_type": "markdown",
   "metadata": {},
   "source": [
    "And see the difference in Animated Movies compared to non-animated movies."
   ]
  },
  {
   "cell_type": "code",
   "execution_count": 37,
   "metadata": {
    "ExecuteTime": {
     "end_time": "2022-08-18T21:47:49.237580Z",
     "start_time": "2022-08-18T21:47:48.806551Z"
    }
   },
   "outputs": [
    {
     "data": {
      "image/png": "[encoded data removed]",
      "text/plain": [
       "<Figure size 1080x720 with 1 Axes>"
      ]
     },
     "metadata": {},
     "output_type": "display_data"
    }
   ],
   "source": [
    "#Create a boxplot of \n",
    "medianbox = sns.boxplot(data=rating_and_budgets,\n",
    "                        x = 'Animation',\n",
    "                        y = 'worldwide_gross',\n",
    "                        palette = ['#0D8390','#86BC25'])\n",
    "#Set the title and fonts\n",
    "medianbox.set_title('Distribution of Worldwide Gross', fontsize=26,**font)\n",
    "#Sets the labels and fonts\n",
    "medianbox.set_xlabel('Movie Genres', fontsize=24,**font)\n",
    "medianbox.set_ylabel('Worldwide Gross', fontsize=24,**font)\n",
    "\n",
    "#Adjusts the labels for the boxes\n",
    "medianbox.set_xticklabels(['Non Animated','Animated'], fontsize=16,**font)\n",
    "\n",
    "#Formatts the y ticks\n",
    "medianbox.get_yaxis().set_major_formatter(\n",
    "    matplotlib.ticker.FuncFormatter(lambda x, p: format(int(x), ',')))\n",
    "plt.yticks(fontsize=14)\n",
    "\n",
    "plt.show()"
   ]
  },
  {
   "cell_type": "markdown",
   "metadata": {},
   "source": [
    "Let's take this a step further and see the spread of the data per genre."
   ]
  },
  {
   "cell_type": "code",
   "execution_count": 38,
   "metadata": {
    "ExecuteTime": {
     "end_time": "2022-08-18T21:47:50.066654Z",
     "start_time": "2022-08-18T21:47:49.241938Z"
    }
   },
   "outputs": [
    {
     "data": {
      "image/png": "[encoded data removed]",
      "text/plain": [
       "<Figure size 1440x720 with 1 Axes>"
      ]
     },
     "metadata": {},
     "output_type": "display_data"
    }
   ],
   "source": [
    "#Sets the theme to seaborn\n",
    "sns.set_theme()\n",
    "\n",
    "#Remove News as there is only 1 sample\n",
    "cleaned_stats = movie_stats.drop(\n",
    "    index='News').sort_values('Medians', ascending=False)\n",
    "\n",
    "#Create figure\n",
    "fig, ax = plt.subplots(figsize=(20,10))\n",
    "\n",
    "#Create a bar plot for all of the medians for each genre\n",
    "ax.bar(range(0,len(cleaned_stats['Medians'])), \n",
    "       list(cleaned_stats['Medians']), color = '#86BC25',edgecolor = \"black\")\n",
    "\n",
    "#Creates the xticks\n",
    "ax.set_xticks(range(0,len(cleaned_stats['Medians'])))\n",
    "ax.set_xticklabels(list(cleaned_stats.index.values), rotation = 30)\n",
    "\n",
    "#Sets the tables and the titles\n",
    "ax.set_xlabel('Genre')\n",
    "ax.set_ylabel('Money Made')\n",
    "ax.set_title('Median Money Made by Genre', fontsize=20)\n",
    "#Cleans up the formatting of\n",
    "ax.get_yaxis().set_major_formatter(\n",
    "    matplotlib.ticker.FuncFormatter(lambda x, p: format(int(x), ',')))\n",
    "\n",
    "#plot median income line\n",
    "plt.axhline(y = rating_and_budgets['worldwide_gross'].median(), \n",
    "            color = '#0D8390', linestyle = '-', \n",
    "            label = 'Median Worldwide Gross ≈ 30M')\n",
    "#Shows the legend\n",
    "ax.legend()\n",
    "\n",
    "plt.show()"
   ]
  },
  {
   "cell_type": "markdown",
   "metadata": {},
   "source": [
    "# Release Date"
   ]
  },
  {
   "cell_type": "markdown",
   "metadata": {},
   "source": [
    "Let's explore how the movies performed in each month.\n",
    "\n",
    "After extracting and creating a new column called \"months\" during our data cleaning process, we wanted to create a numeric column for months to sort the data and display the months in ascending order.\n",
    "\n",
    "To take a closer look at the recent trends, we filtered our dataset with movies released after 2000."
   ]
  },
  {
   "cell_type": "code",
   "execution_count": 39,
   "metadata": {},
   "outputs": [],
   "source": [
    "#Create a dictionary \n",
    "months_dict = { 'January': 1, 'February': 2, 'March': 3, 'April': 4, 'May': 5, \n",
    "               'June': 6, 'July': 7, 'August': 8, 'September': 9, \n",
    "               'October': 10, 'November': 11, 'December': 12}\n",
    "\n",
    "#Map the dictionary to the 'month' column \n",
    "rating_and_budgets['months_numeric'] = rating_and_budgets['months'].apply(lambda x: months_dict.get(x))\n",
    "\n",
    "#Sort the numeric months column in the ascending order\n",
    "rating_and_budgets = rating_and_budgets.sort_values('months_numeric')\n",
    "\n",
    "#Filtering the dataset with movies released from the year 2000\n",
    "rating_and_budgets = rating_and_budgets[rating_and_budgets['year'] >= 2000]"
   ]
  },
  {
   "cell_type": "markdown",
   "metadata": {},
   "source": [
    "Let's see the average gross earnings made from all the movies post 2000 by month."
   ]
  },
  {
   "cell_type": "code",
   "execution_count": 40,
   "metadata": {
    "scrolled": true
   },
   "outputs": [
    {
     "data": {
      "image/png": "[encoded data removed]",
      "text/plain": [
       "<Figure size 756x360 with 1 Axes>"
      ]
     },
     "metadata": {},
     "output_type": "display_data"
    }
   ],
   "source": [
    "fig, ax = plt.subplots()\n",
    "ax = sns.barplot(data = rating_and_budgets, x='months', y='worldwide_gross', \n",
    "                 color ='#86BC25')\n",
    "fig.set_size_inches(10.5, 5)\n",
    "ax.set_title('Monthly Average Gross earnings', fontsize=14)\n",
    "ax.set_xlabel('Month', fontsize=15)\n",
    "ax.set_ylabel('Average Gross', fontsize=15)\n",
    "ax.get_yaxis().set_major_formatter(\n",
    "    matplotlib.ticker.FuncFormatter(lambda x, p: format(int(x), ',')))"
   ]
  },
  {
   "cell_type": "markdown",
   "metadata": {},
   "source": [
    "From the graph above, we can see that the average gross earnings is significantly higher during the holiday seasons."
   ]
  },
  {
   "cell_type": "code",
   "execution_count": 41,
   "metadata": {},
   "outputs": [],
   "source": [
    "#Creating a seperate dataframe called df_plot for visualisations. \n",
    "\n",
    "df_plot = tn_movie_budgets.join(imdb_movie_ratings, how = 'inner')\n",
    "df_plot.reset_index(inplace=True)\n",
    "df_plot = (df_plot.drop_duplicates(subset='title', keep=\"first\"))\n",
    "# Convert values into string and split them\n",
    "df_plot['genres'] = df_plot['genres'].str.split(\",\")\n",
    "# Convert values into list of strings\n",
    "df_plot['genres'] = df_plot['genres'].tolist()\n",
    "# Explode list into individual values\n",
    "df_plot = df_plot.explode('genres')\n",
    "\n",
    "\n",
    "months_dict = {'January': 1, 'February': 2, 'March': 3, 'April': 4, 'May': 5,\n",
    "               'June': 6, 'July': 7, 'August': 8, 'September': 9, \n",
    "               'October': 10, 'November': 11, 'December': 12}\n",
    "df_plot['months_numeric'] = df_plot['months'].apply(lambda x: months_dict.get(x))\n",
    "df_plot = df_plot.sort_values('months_numeric')\n",
    "df_plot = df_plot[df_plot['year'] >= 2000]"
   ]
  },
  {
   "cell_type": "markdown",
   "metadata": {},
   "source": [
    "As we progressed with our analysis, we thought it would be interesting to see how \"Animation\" and \"Adventure\" performed and when would be the best release time for these 2 genres."
   ]
  },
  {
   "cell_type": "code",
   "execution_count": 42,
   "metadata": {},
   "outputs": [],
   "source": [
    "# Plotting world gross by month for top 2 genres : Animation and Adventure\n",
    "def plots(df, genre, colors,n1,n2):\n",
    "    animated_df=df[df['genres']==genre]\n",
    "    animated_df = animated_df.drop_duplicates('title')\n",
    "    animated_df = animated_df.groupby(['months_numeric']).worldwide_gross.mean()\n",
    "    # Create a figure and axis\n",
    "    fig, ax = plt.subplots(figsize=(12,6))\n",
    "    # Get x and y data\n",
    "    x1 = animated_df.index\n",
    "    y1 = animated_df.values\n",
    "    graph = ax.bar(x1, y1, color ='#86BC25')\n",
    "    graph[n1].set_color(colors)\n",
    "    graph[n2].set_color(colors)\n",
    "    months =['Jan','Feb', 'Mar', 'Apr', 'May', 'Jun', 'Jul','Aug', 'Sep', 'Oct', 'Nov', 'Dec']\n",
    "    months_num = range(1,13)\n",
    "    ax.set_xticks(months_num)\n",
    "    ax.set_xticklabels(months)\n",
    "    plt.xticks(fontsize=12)\n",
    "    plt.yticks(fontsize=12)\n",
    "    ax.set_title('Monthly Average Gross earnings for ' + genre + ' movies', fontsize=14)\n",
    "    ax.set_xlabel('Month', fontsize=15)\n",
    "    ax.set_ylabel('Average Gross', fontsize=15)\n",
    "    ax.get_yaxis().set_major_formatter(\n",
    "    matplotlib.ticker.FuncFormatter(lambda x, p: format(int(x), ',')))\n",
    "    plt.tight_layout()\n",
    "    plt.savefig('plot3.jpg')"
   ]
  },
  {
   "cell_type": "markdown",
   "metadata": {},
   "source": [
    "Plot's for Animation and Adventure"
   ]
  },
  {
   "cell_type": "code",
   "execution_count": 43,
   "metadata": {},
   "outputs": [
    {
     "data": {
      "image/png": "[encoded data removed]",
      "text/plain": [
       "<Figure size 864x432 with 1 Axes>"
      ]
     },
     "metadata": {},
     "output_type": "display_data"
    }
   ],
   "source": [
    "# Visualisation of average gross earnings for Animated movies\n",
    "plots(df_plot, 'Animation','#007CB0',5,6)"
   ]
  },
  {
   "cell_type": "markdown",
   "metadata": {},
   "source": [
    "Animated movies released in the month of June yielded highest average gross earnings. We noticed that movies release in the early summer returned higher gross compared to other months (this could be because of the schools and colleges being off and people tending to have more leisure time)."
   ]
  },
  {
   "cell_type": "code",
   "execution_count": 44,
   "metadata": {},
   "outputs": [
    {
     "data": {
      "image/png": "[encoded data removed]",
      "text/plain": [
       "<Figure size 864x432 with 1 Axes>"
      ]
     },
     "metadata": {},
     "output_type": "display_data"
    }
   ],
   "source": [
    "# Visualisation of average gross earnings for Adventure movies\n",
    "plots(df_plot, 'Adventure', '#007CB0',4,5)"
   ]
  },
  {
   "cell_type": "markdown",
   "metadata": {},
   "source": [
    "We can see that May has returned highest average gross earnings for Adventure movies, but having a very similar pattern to the Animated movies release time."
   ]
  },
  {
   "cell_type": "code",
   "execution_count": null,
   "metadata": {},
   "outputs": [],
   "source": []
  }
 ],
 "metadata": {
  "kernelspec": {
   "display_name": "Python (learn-env)",
   "language": "python",
   "name": "learn-env"
  },
  "language_info": {
   "codemirror_mode": {
    "name": "ipython",
    "version": 3
   },
   "file_extension": ".py",
   "mimetype": "text/x-python",
   "name": "python",
   "nbconvert_exporter": "python",
   "pygments_lexer": "ipython3",
   "version": "3.8.5"
  },
  "toc": {
   "base_numbering": 1,
   "nav_menu": {},
   "number_sections": true,
   "sideBar": true,
   "skip_h1_title": false,
   "title_cell": "Table of Contents",
   "title_sidebar": "Contents",
   "toc_cell": false,
   "toc_position": {},
   "toc_section_display": true,
   "toc_window_display": false
  },
  "varInspector": {
   "cols": {
    "lenName": 16,
    "lenType": 16,
    "lenVar": 40
   },
   "kernels_config": {
    "python": {
     "delete_cmd_postfix": "",
     "delete_cmd_prefix": "del ",
     "library": "var_list.py",
     "varRefreshCmd": "print(var_dic_list())"
    },
    "r": {
     "delete_cmd_postfix": ") ",
     "delete_cmd_prefix": "rm(",
     "library": "var_list.r",
     "varRefreshCmd": "cat(var_dic_list()) "
    }
   },
   "types_to_exclude": [
    "module",
    "function",
    "builtin_function_or_method",
    "instance",
    "_Feature"
   ],
   "window_display": false
  }
 },
 "nbformat": 4,
 "nbformat_minor": 4
}
