{
 "cells": [
  {
   "cell_type": "code",
   "execution_count": 1,
   "metadata": {},
   "outputs": [],
   "source": [
    "#Import Statements\n",
    "import numpy as np\n",
    "import pandas as pd\n",
    "import scipy.stats as stats\n",
    "\n",
    "import matplotlib.pyplot as plt\n",
    "import matplotlib\n",
    "import seaborn as sns\n",
    "\n",
    "import sqlite3\n",
    "from zipfile import ZipFile\n",
    "\n",
    "import string\n",
    "import regex as re\n",
    "\n",
    "%matplotlib inline"
   ]
  },
  {
   "cell_type": "code",
   "execution_count": 26,
   "metadata": {},
   "outputs": [],
   "source": [
    "color_palette = [\"#86BC25\"] #Set Color of PLots to Deloitte Green\n",
    "sns.set_palette(palette=color_palette)"
   ]
  },
  {
   "cell_type": "markdown",
   "metadata": {},
   "source": [
    "# Import Data "
   ]
  },
  {
   "cell_type": "code",
   "execution_count": 11,
   "metadata": {},
   "outputs": [
    {
     "data": {
      "text/html": [
       "<div>\n",
       "<style scoped>\n",
       "    .dataframe tbody tr th:only-of-type {\n",
       "        vertical-align: middle;\n",
       "    }\n",
       "\n",
       "    .dataframe tbody tr th {\n",
       "        vertical-align: top;\n",
       "    }\n",
       "\n",
       "    .dataframe thead th {\n",
       "        text-align: right;\n",
       "    }\n",
       "</style>\n",
       "<table border=\"1\" class=\"dataframe\">\n",
       "  <thead>\n",
       "    <tr style=\"text-align: right;\">\n",
       "      <th></th>\n",
       "      <th>id</th>\n",
       "      <th>release_date</th>\n",
       "      <th>movie</th>\n",
       "      <th>production_budget</th>\n",
       "      <th>domestic_gross</th>\n",
       "      <th>worldwide_gross</th>\n",
       "    </tr>\n",
       "  </thead>\n",
       "  <tbody>\n",
       "    <tr>\n",
       "      <th>0</th>\n",
       "      <td>1</td>\n",
       "      <td>Dec 18, 2009</td>\n",
       "      <td>Avatar</td>\n",
       "      <td>$425,000,000</td>\n",
       "      <td>$760,507,625</td>\n",
       "      <td>$2,776,345,279</td>\n",
       "    </tr>\n",
       "    <tr>\n",
       "      <th>1</th>\n",
       "      <td>2</td>\n",
       "      <td>May 20, 2011</td>\n",
       "      <td>Pirates of the Caribbean: On Stranger Tides</td>\n",
       "      <td>$410,600,000</td>\n",
       "      <td>$241,063,875</td>\n",
       "      <td>$1,045,663,875</td>\n",
       "    </tr>\n",
       "    <tr>\n",
       "      <th>2</th>\n",
       "      <td>3</td>\n",
       "      <td>Jun 7, 2019</td>\n",
       "      <td>Dark Phoenix</td>\n",
       "      <td>$350,000,000</td>\n",
       "      <td>$42,762,350</td>\n",
       "      <td>$149,762,350</td>\n",
       "    </tr>\n",
       "    <tr>\n",
       "      <th>3</th>\n",
       "      <td>4</td>\n",
       "      <td>May 1, 2015</td>\n",
       "      <td>Avengers: Age of Ultron</td>\n",
       "      <td>$330,600,000</td>\n",
       "      <td>$459,005,868</td>\n",
       "      <td>$1,403,013,963</td>\n",
       "    </tr>\n",
       "    <tr>\n",
       "      <th>4</th>\n",
       "      <td>5</td>\n",
       "      <td>Dec 15, 2017</td>\n",
       "      <td>Star Wars Ep. VIII: The Last Jedi</td>\n",
       "      <td>$317,000,000</td>\n",
       "      <td>$620,181,382</td>\n",
       "      <td>$1,316,721,747</td>\n",
       "    </tr>\n",
       "  </tbody>\n",
       "</table>\n",
       "</div>"
      ],
      "text/plain": [
       "   id  release_date                                        movie  \\\n",
       "0   1  Dec 18, 2009                                       Avatar   \n",
       "1   2  May 20, 2011  Pirates of the Caribbean: On Stranger Tides   \n",
       "2   3   Jun 7, 2019                                 Dark Phoenix   \n",
       "3   4   May 1, 2015                      Avengers: Age of Ultron   \n",
       "4   5  Dec 15, 2017            Star Wars Ep. VIII: The Last Jedi   \n",
       "\n",
       "  production_budget domestic_gross worldwide_gross  \n",
       "0      $425,000,000   $760,507,625  $2,776,345,279  \n",
       "1      $410,600,000   $241,063,875  $1,045,663,875  \n",
       "2      $350,000,000    $42,762,350    $149,762,350  \n",
       "3      $330,600,000   $459,005,868  $1,403,013,963  \n",
       "4      $317,000,000   $620,181,382  $1,316,721,747  "
      ]
     },
     "execution_count": 11,
     "metadata": {},
     "output_type": "execute_result"
    }
   ],
   "source": [
    "the_numbers = pd.read_csv('zippedData/tn.movie_budgets.csv.gz')\n",
    "the_numbers.head()"
   ]
  },
  {
   "cell_type": "code",
   "execution_count": null,
   "metadata": {},
   "outputs": [],
   "source": [
    "#Run only first time to unzip the file\n",
    "\n",
    "#Confirm with Instructors if we need to have this run\n",
    "file_name = \"./zippedData/im.db.zip\"\n",
    "# opening the zip file in READ mode\n",
    "with ZipFile(file_name, 'r') as zip:\n",
    "    # printing all the contents of the zip file\n",
    "    #zip.printdir()\n",
    "    zip.extractall()"
   ]
  },
  {
   "cell_type": "code",
   "execution_count": 6,
   "metadata": {},
   "outputs": [],
   "source": [
    "conn = sqlite3.connect('./im.db')"
   ]
  },
  {
   "cell_type": "markdown",
   "metadata": {},
   "source": [
    "# Data Cleaning and EDA"
   ]
  },
  {
   "cell_type": "code",
   "execution_count": 13,
   "metadata": {},
   "outputs": [],
   "source": [
    "def make_int(string):\n",
    "    return int(string.replace(\"$\",\"\").replace(\",\",\"\"))"
   ]
  },
  {
   "cell_type": "code",
   "execution_count": 14,
   "metadata": {},
   "outputs": [],
   "source": [
    "the_numbers['production_budget'] = the_numbers['production_budget'].apply(lambda x: make_int(x))\n",
    "the_numbers['domestic_gross'] = the_numbers['domestic_gross'].apply(lambda x: make_int(x))\n",
    "the_numbers['worldwide_gross'] = the_numbers['worldwide_gross'].apply(lambda x: make_int(x))\n",
    "\n",
    "#Creates a date time from release date\n",
    "the_numbers['release_date']=(\n",
    "    pd.to_datetime(the_numbers['release_date'], format='%b %d, %Y'))\n",
    "\n",
    "#Creates a new title column\n",
    "the_numbers['title']= (\n",
    "    the_numbers['movie'].map(\n",
    "        lambda x :''.join(filter(str.isalnum, x)).lower()))\n",
    "\n",
    "the_numbers['days'] = the_numbers[\"release_date\"].dt.day_name()\n",
    "the_numbers['months'] = the_numbers[\"release_date\"].dt.month_name()\n",
    "the_numbers['year'] = the_numbers[\"release_date\"].dt.year"
   ]
  },
  {
   "cell_type": "code",
   "execution_count": 16,
   "metadata": {},
   "outputs": [
    {
     "name": "stdout",
     "output_type": "stream",
     "text": [
      "<class 'pandas.core.frame.DataFrame'>\n",
      "RangeIndex: 5782 entries, 0 to 5781\n",
      "Data columns (total 10 columns):\n",
      " #   Column             Non-Null Count  Dtype         \n",
      "---  ------             --------------  -----         \n",
      " 0   id                 5782 non-null   int64         \n",
      " 1   release_date       5782 non-null   datetime64[ns]\n",
      " 2   movie              5782 non-null   object        \n",
      " 3   production_budget  5782 non-null   int64         \n",
      " 4   domestic_gross     5782 non-null   int64         \n",
      " 5   worldwide_gross    5782 non-null   int64         \n",
      " 6   title              5782 non-null   object        \n",
      " 7   days               5782 non-null   object        \n",
      " 8   months             5782 non-null   object        \n",
      " 9   year               5782 non-null   int64         \n",
      "dtypes: datetime64[ns](1), int64(5), object(4)\n",
      "memory usage: 451.8+ KB\n"
     ]
    }
   ],
   "source": [
    "the_numbers.info()"
   ]
  },
  {
   "cell_type": "markdown",
   "metadata": {},
   "source": [
    "# Production Budget"
   ]
  },
  {
   "cell_type": "code",
   "execution_count": 22,
   "metadata": {},
   "outputs": [],
   "source": [
    "def z_score(value, mean, std):\n",
    "    return (value - mean) / std"
   ]
  },
  {
   "cell_type": "code",
   "execution_count": 23,
   "metadata": {},
   "outputs": [
    {
     "name": "stdout",
     "output_type": "stream",
     "text": [
      "91487460.90643376\n",
      "27984448.5\n"
     ]
    }
   ],
   "source": [
    "the_numbers_mean = the_numbers['worldwide_gross'].mean()\n",
    "the_numbers_med = the_numbers['worldwide_gross'].median()\n",
    "the_numbers_std = the_numbers['worldwide_gross'].std()\n",
    "\n",
    "print(the_numbers_mean)\n",
    "print(the_numbers_med)\n",
    "\n",
    "the_numbers['z_score'] = the_numbers['worldwide_gross'].apply(lambda x: z_score(x, the_numbers_mean, the_numbers_std))"
   ]
  },
  {
   "cell_type": "code",
   "execution_count": 27,
   "metadata": {},
   "outputs": [
    {
     "data": {
      "image/png": "[encoded data removed]",
      "text/plain": [
       "<Figure size 1080x576 with 1 Axes>"
      ]
     },
     "metadata": {},
     "output_type": "display_data"
    }
   ],
   "source": [
    "sns.regplot(data=the_numbers, x='production_budget', y='worldwide_gross', \n",
    "            scatter_kws={'alpha':0.5})\n",
    "sns.set(rc={'figure.figsize':(15,8)})"
   ]
  },
  {
   "cell_type": "code",
   "execution_count": 30,
   "metadata": {},
   "outputs": [
    {
     "data": {
      "text/plain": [
       "['Avatar',\n",
       " 'Pirates of the Caribbean: On Stranger Tides',\n",
       " 'Avengers: Age of Ultron',\n",
       " 'Star Wars Ep. VIII: The Last Jedi',\n",
       " 'Star Wars Ep. VII: The Force Awakens']"
      ]
     },
     "execution_count": 30,
     "metadata": {},
     "output_type": "execute_result"
    }
   ],
   "source": [
    "gross_outliers = the_numbers[the_numbers['z_score'] > 3]\n",
    "outliers_movies_lst = list(gross_outliers['movie'].values)\n",
    "outliers_movies_lst[:5]"
   ]
  },
  {
   "cell_type": "code",
   "execution_count": 31,
   "metadata": {},
   "outputs": [],
   "source": [
    "imdb_people = pd.read_sql(f\"\"\"\n",
    "SELECT pr.person_id, primary_name, death_year, category, primary_title,\n",
    "       original_title\n",
    "FROM persons p\n",
    "LEFT JOIN principals pr ON pr.person_id = p.person_id\n",
    "LEFT JOIN movie_basics mb ON pr.movie_id = mb.movie_id\n",
    "\"\"\", conn)"
   ]
  },
  {
   "cell_type": "code",
   "execution_count": 37,
   "metadata": {},
   "outputs": [
    {
     "data": {
      "text/html": [
       "<div>\n",
       "<style scoped>\n",
       "    .dataframe tbody tr th:only-of-type {\n",
       "        vertical-align: middle;\n",
       "    }\n",
       "\n",
       "    .dataframe tbody tr th {\n",
       "        vertical-align: top;\n",
       "    }\n",
       "\n",
       "    .dataframe thead th {\n",
       "        text-align: right;\n",
       "    }\n",
       "</style>\n",
       "<table border=\"1\" class=\"dataframe\">\n",
       "  <thead>\n",
       "    <tr style=\"text-align: right;\">\n",
       "      <th></th>\n",
       "      <th>person_id</th>\n",
       "      <th>primary_name</th>\n",
       "      <th>death_year</th>\n",
       "      <th>category</th>\n",
       "      <th>primary_title</th>\n",
       "      <th>original_title</th>\n",
       "    </tr>\n",
       "  </thead>\n",
       "  <tbody>\n",
       "    <tr>\n",
       "      <th>480</th>\n",
       "      <td>nm0125336</td>\n",
       "      <td>Jez Butterworth</td>\n",
       "      <td>NaN</td>\n",
       "      <td>writer</td>\n",
       "      <td>Spectre</td>\n",
       "      <td>Spectre</td>\n",
       "    </tr>\n",
       "    <tr>\n",
       "      <th>2286</th>\n",
       "      <td>nm0671567</td>\n",
       "      <td>Michael Peña</td>\n",
       "      <td>NaN</td>\n",
       "      <td>actor</td>\n",
       "      <td>Ant-Man and the Wasp</td>\n",
       "      <td>Ant-Man and the Wasp</td>\n",
       "    </tr>\n",
       "    <tr>\n",
       "      <th>2797</th>\n",
       "      <td>nm0834902</td>\n",
       "      <td>Robert Stromberg</td>\n",
       "      <td>NaN</td>\n",
       "      <td>director</td>\n",
       "      <td>Maleficent</td>\n",
       "      <td>Maleficent</td>\n",
       "    </tr>\n",
       "    <tr>\n",
       "      <th>2799</th>\n",
       "      <td>nm0837112</td>\n",
       "      <td>Richard Suckle</td>\n",
       "      <td>NaN</td>\n",
       "      <td>producer</td>\n",
       "      <td>Suicide Squad</td>\n",
       "      <td>Suicide Squad</td>\n",
       "    </tr>\n",
       "    <tr>\n",
       "      <th>3273</th>\n",
       "      <td>nm1014201</td>\n",
       "      <td>Rhett Reese</td>\n",
       "      <td>NaN</td>\n",
       "      <td>writer</td>\n",
       "      <td>Deadpool</td>\n",
       "      <td>Deadpool</td>\n",
       "    </tr>\n",
       "    <tr>\n",
       "      <th>...</th>\n",
       "      <td>...</td>\n",
       "      <td>...</td>\n",
       "      <td>...</td>\n",
       "      <td>...</td>\n",
       "      <td>...</td>\n",
       "      <td>...</td>\n",
       "    </tr>\n",
       "    <tr>\n",
       "      <th>1005549</th>\n",
       "      <td>nm9989238</td>\n",
       "      <td>Suneet Gautam</td>\n",
       "      <td>NaN</td>\n",
       "      <td>composer</td>\n",
       "      <td>Titanic</td>\n",
       "      <td>Titanic</td>\n",
       "    </tr>\n",
       "    <tr>\n",
       "      <th>1009487</th>\n",
       "      <td>nm9989231</td>\n",
       "      <td>Mahesh Vashisht</td>\n",
       "      <td>NaN</td>\n",
       "      <td>composer</td>\n",
       "      <td>Titanic</td>\n",
       "      <td>Titanic</td>\n",
       "    </tr>\n",
       "    <tr>\n",
       "      <th>1013926</th>\n",
       "      <td>nm9039216</td>\n",
       "      <td>Neil Boultby</td>\n",
       "      <td>NaN</td>\n",
       "      <td>actor</td>\n",
       "      <td>Coco</td>\n",
       "      <td>Coco</td>\n",
       "    </tr>\n",
       "    <tr>\n",
       "      <th>1029087</th>\n",
       "      <td>nm9061881</td>\n",
       "      <td>Natalia Kaverznikova</td>\n",
       "      <td>NaN</td>\n",
       "      <td>actress</td>\n",
       "      <td>Coco</td>\n",
       "      <td>Coco</td>\n",
       "    </tr>\n",
       "    <tr>\n",
       "      <th>1029088</th>\n",
       "      <td>nm9061886</td>\n",
       "      <td>Isabelle Stokes</td>\n",
       "      <td>NaN</td>\n",
       "      <td>actress</td>\n",
       "      <td>Coco</td>\n",
       "      <td>Coco</td>\n",
       "    </tr>\n",
       "  </tbody>\n",
       "</table>\n",
       "<p>956 rows × 6 columns</p>\n",
       "</div>"
      ],
      "text/plain": [
       "         person_id          primary_name  death_year  category  \\\n",
       "480      nm0125336       Jez Butterworth         NaN    writer   \n",
       "2286     nm0671567          Michael Peña         NaN     actor   \n",
       "2797     nm0834902      Robert Stromberg         NaN  director   \n",
       "2799     nm0837112        Richard Suckle         NaN  producer   \n",
       "3273     nm1014201           Rhett Reese         NaN    writer   \n",
       "...            ...                   ...         ...       ...   \n",
       "1005549  nm9989238         Suneet Gautam         NaN  composer   \n",
       "1009487  nm9989231       Mahesh Vashisht         NaN  composer   \n",
       "1013926  nm9039216          Neil Boultby         NaN     actor   \n",
       "1029087  nm9061881  Natalia Kaverznikova         NaN   actress   \n",
       "1029088  nm9061886       Isabelle Stokes         NaN   actress   \n",
       "\n",
       "                primary_title        original_title  \n",
       "480                   Spectre               Spectre  \n",
       "2286     Ant-Man and the Wasp  Ant-Man and the Wasp  \n",
       "2797               Maleficent            Maleficent  \n",
       "2799            Suicide Squad         Suicide Squad  \n",
       "3273                 Deadpool              Deadpool  \n",
       "...                       ...                   ...  \n",
       "1005549               Titanic               Titanic  \n",
       "1009487               Titanic               Titanic  \n",
       "1013926                  Coco                  Coco  \n",
       "1029087                  Coco                  Coco  \n",
       "1029088                  Coco                  Coco  \n",
       "\n",
       "[956 rows x 6 columns]"
      ]
     },
     "metadata": {},
     "output_type": "display_data"
    },
    {
     "data": {
      "text/html": [
       "<div>\n",
       "<style scoped>\n",
       "    .dataframe tbody tr th:only-of-type {\n",
       "        vertical-align: middle;\n",
       "    }\n",
       "\n",
       "    .dataframe tbody tr th {\n",
       "        vertical-align: top;\n",
       "    }\n",
       "\n",
       "    .dataframe thead th {\n",
       "        text-align: right;\n",
       "    }\n",
       "</style>\n",
       "<table border=\"1\" class=\"dataframe\">\n",
       "  <thead>\n",
       "    <tr style=\"text-align: right;\">\n",
       "      <th></th>\n",
       "      <th>category</th>\n",
       "      <th>primary_name</th>\n",
       "      <th>counts</th>\n",
       "    </tr>\n",
       "  </thead>\n",
       "  <tbody>\n",
       "    <tr>\n",
       "      <th>0</th>\n",
       "      <td>actor</td>\n",
       "      <td>Aarif Rahman</td>\n",
       "      <td>1</td>\n",
       "    </tr>\n",
       "    <tr>\n",
       "      <th>1</th>\n",
       "      <td>actor</td>\n",
       "      <td>Adil Hussain</td>\n",
       "      <td>1</td>\n",
       "    </tr>\n",
       "    <tr>\n",
       "      <th>2</th>\n",
       "      <td>actor</td>\n",
       "      <td>Alan Mathis</td>\n",
       "      <td>1</td>\n",
       "    </tr>\n",
       "    <tr>\n",
       "      <th>3</th>\n",
       "      <td>actor</td>\n",
       "      <td>Alan Tudyk</td>\n",
       "      <td>1</td>\n",
       "    </tr>\n",
       "    <tr>\n",
       "      <th>4</th>\n",
       "      <td>actor</td>\n",
       "      <td>Albert Brooks</td>\n",
       "      <td>1</td>\n",
       "    </tr>\n",
       "  </tbody>\n",
       "</table>\n",
       "</div>"
      ],
      "text/plain": [
       "  category   primary_name  counts\n",
       "0    actor   Aarif Rahman       1\n",
       "1    actor   Adil Hussain       1\n",
       "2    actor    Alan Mathis       1\n",
       "3    actor     Alan Tudyk       1\n",
       "4    actor  Albert Brooks       1"
      ]
     },
     "execution_count": 37,
     "metadata": {},
     "output_type": "execute_result"
    }
   ],
   "source": [
    "#Make Sure Personnel is Alive\n",
    "imdb_alive = imdb_people[imdb_people['death_year'].isnull() == True] \n",
    "\n",
    "#Check if Person is in List of Outliers\n",
    "imdb_outliers = imdb_alive[imdb_alive['primary_title'].isin(outliers_movies_lst)]\n",
    "display(imdb_outliers)\n",
    "\n",
    "#Group Outliers Togeter to Get Counts\n",
    "grouped = imdb_outliers.groupby(['category','primary_name']).size().reset_index(name='counts')\n",
    "grouped.head()"
   ]
  },
  {
   "cell_type": "code",
   "execution_count": 45,
   "metadata": {},
   "outputs": [
    {
     "data": {
      "text/plain": [
       "3.5381775991830686"
      ]
     },
     "execution_count": 45,
     "metadata": {},
     "output_type": "execute_result"
    }
   ],
   "source": [
    "grouped['counts'].mean() + (3 * grouped['counts'].std())"
   ]
  },
  {
   "cell_type": "code",
   "execution_count": 46,
   "metadata": {},
   "outputs": [],
   "source": [
    "grouped3 = grouped[grouped['counts'] > 4]"
   ]
  },
  {
   "cell_type": "code",
   "execution_count": 47,
   "metadata": {},
   "outputs": [
    {
     "data": {
      "image/png": "[encoded data removed]",
      "text/plain": [
       "<Figure size 1080x720 with 1 Axes>"
      ]
     },
     "metadata": {},
     "output_type": "display_data"
    }
   ],
   "source": [
    "ax = sns.barplot(x=\"primary_name\", y=\"counts\", data=grouped3, color=\"#86BC25\", order=grouped3.sort_values('counts', ascending=False).primary_name)\n",
    "sns.set(rc={'figure.figsize':(15,10)})\n",
    "ax.set_title(\"Actor Appearances\")\n",
    "ax.set_xlabel(\"Actor Name\")\n",
    "ax.set_ylabel(\"# of Occurences\")\n",
    "ax.set_xticklabels(ax.get_xticklabels(),rotation = 45)\n",
    "\n",
    "plt.show()"
   ]
  },
  {
   "cell_type": "markdown",
   "metadata": {},
   "source": [
    "# Genre"
   ]
  },
  {
   "cell_type": "code",
   "execution_count": null,
   "metadata": {},
   "outputs": [],
   "source": []
  }
 ],
 "metadata": {
  "kernelspec": {
   "display_name": "Python (learn-env)",
   "language": "python",
   "name": "learn-env"
  },
  "language_info": {
   "codemirror_mode": {
    "name": "ipython",
    "version": 3
   },
   "file_extension": ".py",
   "mimetype": "text/x-python",
   "name": "python",
   "nbconvert_exporter": "python",
   "pygments_lexer": "ipython3",
   "version": "3.8.5"
  },
  "toc": {
   "base_numbering": 1,
   "nav_menu": {},
   "number_sections": true,
   "sideBar": true,
   "skip_h1_title": false,
   "title_cell": "Table of Contents",
   "title_sidebar": "Contents",
   "toc_cell": false,
   "toc_position": {},
   "toc_section_display": true,
   "toc_window_display": false
  }
 },
 "nbformat": 4,
 "nbformat_minor": 4
}
